{
  "nbformat": 4,
  "nbformat_minor": 0,
  "metadata": {
    "colab": {
      "provenance": [],
      "include_colab_link": true
    },
    "kernelspec": {
      "name": "python3",
      "display_name": "Python 3"
    }
  },
  "cells": [
    {
      "cell_type": "markdown",
      "metadata": {
        "id": "view-in-github",
        "colab_type": "text"
      },
      "source": [
        "<a href=\"https://colab.research.google.com/github/madhumithadasarathy/My_Projects/blob/main/Purchase_of_a_Product_in_social_network.ipynb\" target=\"_parent\"><img src=\"https://colab.research.google.com/assets/colab-badge.svg\" alt=\"Open In Colab\"/></a>"
      ]
    },
    {
      "cell_type": "markdown",
      "metadata": {
        "id": "aQIDTCSIwTP3"
      },
      "source": [
        "### Instructions"
      ]
    },
    {
      "cell_type": "markdown",
      "metadata": {
        "id": "F_IP6BNb3Ne1"
      },
      "source": [
        "---"
      ]
    },
    {
      "cell_type": "markdown",
      "metadata": {
        "id": "fR_SN7K6475D"
      },
      "source": [
        "### Problem Statement\n",
        "\n",
        "Nowadays, social media advertising is one of the popular forms of  advertising. Advertisers can utilise user's demographic information and target their ads accordingly.\n",
        "\n",
        "Implement Random Forest Classification and Logistic Regression to determine whether a user will purchase a particular product displayed on a social network ad or not.  Compare the accuracy of both the classification algorithms.\n"
      ]
    },
    {
      "cell_type": "markdown",
      "metadata": {
        "id": "lN1iCMJ4Oy1N"
      },
      "source": [
        "---"
      ]
    },
    {
      "cell_type": "markdown",
      "metadata": {
        "id": "L3zN-iv-wpjm"
      },
      "source": [
        "### List of Activities\n",
        "\n",
        "**Activity 1:** Analysing the Dataset\n",
        "\n",
        "**Activity 2:** Train-Test Split\n",
        "\n",
        "**Activity 3:** Random Forest Classification - Model Training\n",
        "\n",
        "**Activity 4:** Random Forest Classification - Model Prediction and Evaluation\n",
        "\n",
        "**Activity 5:** Logistic Regression - Model Training\n",
        "\n",
        "**Activity 6:** Logistic Regression - Model Prediction and Evaluation\n",
        "\n",
        "**Activity 7:** Comparision and Conclusion\n",
        "\n",
        "\n",
        "\n",
        "\n",
        "\n",
        "\n"
      ]
    },
    {
      "cell_type": "markdown",
      "metadata": {
        "id": "jLudEnlPO0FF"
      },
      "source": [
        "---"
      ]
    },
    {
      "cell_type": "markdown",
      "metadata": {
        "id": "lZt4yKiJwrUs"
      },
      "source": [
        "\n",
        "#### Activity 1:  Analysing the Dataset\n",
        "\n",
        "- To create Pandas DataFrame for **Social Network** dataset using the below link. This dataset consists of following columns:\n",
        "\n",
        "|Field|Description|\n",
        "|---:|:---|\n",
        "|UserID|Unique ID|\n",
        "|Gender|Male or Female|\n",
        "|Age|Age of a person|\n",
        "|EstimatedSalary|Salary of a person|\n",
        "|Purchased|‘0’ or ‘1’. ‘0’ means not purchased and ‘1’ means purchased.|\n",
        "\n",
        "\n",
        "  **Dataset Link:** https://s3-student-datasets-bucket.whjr.online/whitehat-ds-datasets/social-network-ads.csv\n",
        "\n",
        "- To print the first five rows of the dataset. Check for null values and treat them accordingly (if any).\n",
        "\n",
        "- To create a heatmap to identify the relationship between the independent attributes and dependent attribute `Purchased`.\n",
        "\n",
        "\n"
      ]
    },
    {
      "cell_type": "code",
      "metadata": {
        "id": "0Ur0bY85pWfy",
        "outputId": "2b89f753-d88f-42a3-8e15-b3d413a45ae5",
        "colab": {
          "base_uri": "https://localhost:8080/",
          "height": 206
        }
      },
      "source": [
        "# Importing modules\n",
        "import numpy as np\n",
        "import pandas as pd\n",
        "import matplotlib.pyplot as plt\n",
        "import seaborn as sns\n",
        "# Loading the dataset\n",
        "# Dataset Link: 'https://s3-student-datasets-bucket.whjr.online/whitehat-ds-datasets/social-network-ads.csv'\n",
        "df = pd.read_csv('https://s3-student-datasets-bucket.whjr.online/whitehat-ds-datasets/social-network-ads.csv')\n",
        "# Printing the first five rows of the dataframe\n",
        "df.head()"
      ],
      "execution_count": null,
      "outputs": [
        {
          "output_type": "execute_result",
          "data": {
            "text/html": [
              "<div>\n",
              "<style scoped>\n",
              "    .dataframe tbody tr th:only-of-type {\n",
              "        vertical-align: middle;\n",
              "    }\n",
              "\n",
              "    .dataframe tbody tr th {\n",
              "        vertical-align: top;\n",
              "    }\n",
              "\n",
              "    .dataframe thead th {\n",
              "        text-align: right;\n",
              "    }\n",
              "</style>\n",
              "<table border=\"1\" class=\"dataframe\">\n",
              "  <thead>\n",
              "    <tr style=\"text-align: right;\">\n",
              "      <th></th>\n",
              "      <th>User ID</th>\n",
              "      <th>Gender</th>\n",
              "      <th>Age</th>\n",
              "      <th>EstimatedSalary</th>\n",
              "      <th>Purchased</th>\n",
              "    </tr>\n",
              "  </thead>\n",
              "  <tbody>\n",
              "    <tr>\n",
              "      <th>0</th>\n",
              "      <td>15624510</td>\n",
              "      <td>Male</td>\n",
              "      <td>19</td>\n",
              "      <td>19000</td>\n",
              "      <td>0</td>\n",
              "    </tr>\n",
              "    <tr>\n",
              "      <th>1</th>\n",
              "      <td>15810944</td>\n",
              "      <td>Male</td>\n",
              "      <td>35</td>\n",
              "      <td>20000</td>\n",
              "      <td>0</td>\n",
              "    </tr>\n",
              "    <tr>\n",
              "      <th>2</th>\n",
              "      <td>15668575</td>\n",
              "      <td>Female</td>\n",
              "      <td>26</td>\n",
              "      <td>43000</td>\n",
              "      <td>0</td>\n",
              "    </tr>\n",
              "    <tr>\n",
              "      <th>3</th>\n",
              "      <td>15603246</td>\n",
              "      <td>Female</td>\n",
              "      <td>27</td>\n",
              "      <td>57000</td>\n",
              "      <td>0</td>\n",
              "    </tr>\n",
              "    <tr>\n",
              "      <th>4</th>\n",
              "      <td>15804002</td>\n",
              "      <td>Male</td>\n",
              "      <td>19</td>\n",
              "      <td>76000</td>\n",
              "      <td>0</td>\n",
              "    </tr>\n",
              "  </tbody>\n",
              "</table>\n",
              "</div>"
            ],
            "text/plain": [
              "    User ID  Gender  Age  EstimatedSalary  Purchased\n",
              "0  15624510    Male   19            19000          0\n",
              "1  15810944    Male   35            20000          0\n",
              "2  15668575  Female   26            43000          0\n",
              "3  15603246  Female   27            57000          0\n",
              "4  15804002    Male   19            76000          0"
            ]
          },
          "metadata": {},
          "execution_count": 2
        }
      ]
    },
    {
      "cell_type": "code",
      "metadata": {
        "id": "OiSg9X-VIfox",
        "outputId": "ec14628a-1e8a-48fe-e129-8134c5671fb3",
        "colab": {
          "base_uri": "https://localhost:8080/"
        }
      },
      "source": [
        "# Printing the dataset information\n",
        "df.info()"
      ],
      "execution_count": null,
      "outputs": [
        {
          "output_type": "stream",
          "name": "stdout",
          "text": [
            "<class 'pandas.core.frame.DataFrame'>\n",
            "RangeIndex: 400 entries, 0 to 399\n",
            "Data columns (total 5 columns):\n",
            " #   Column           Non-Null Count  Dtype \n",
            "---  ------           --------------  ----- \n",
            " 0   User ID          400 non-null    int64 \n",
            " 1   Gender           400 non-null    object\n",
            " 2   Age              400 non-null    int64 \n",
            " 3   EstimatedSalary  400 non-null    int64 \n",
            " 4   Purchased        400 non-null    int64 \n",
            "dtypes: int64(4), object(1)\n",
            "memory usage: 15.8+ KB\n"
          ]
        }
      ]
    },
    {
      "cell_type": "markdown",
      "metadata": {
        "id": "5Wzjpm4fIoD2"
      },
      "source": [
        "**Q:** Are there any missing values?\n",
        "\n",
        "**A:** No, there are no missing values in the dataframe."
      ]
    },
    {
      "cell_type": "code",
      "metadata": {
        "id": "O6x-PNjWq9qL",
        "outputId": "a430b86c-010c-49de-bf15-3efc8a82198c",
        "colab": {
          "base_uri": "https://localhost:8080/",
          "height": 324
        }
      },
      "source": [
        "# Creating a heatmap to identify the relation between attributes\n",
        "plt.figure(figsize=(10,5))\n",
        "sns.heatmap(df.corr(),annot= True)\n",
        "plt.show()"
      ],
      "execution_count": null,
      "outputs": [
        {
          "output_type": "display_data",
          "data": {
            "image/png": "[encoded data removed]",
            "text/plain": [
              "<Figure size 720x360 with 2 Axes>"
            ]
          },
          "metadata": {
            "needs_background": "light"
          }
        }
      ]
    },
    {
      "cell_type": "markdown",
      "metadata": {
        "id": "PiamSiddn8Tf"
      },
      "source": [
        "**Q:** Which attribute(s) has the strongest relationship with the `Purchased` feature?\n",
        "\n",
        "**A:** Age has the strongest relationship with the \"Purchased\" feature."
      ]
    },
    {
      "cell_type": "markdown",
      "metadata": {
        "id": "GvPGpv33MagO"
      },
      "source": [
        "---\n"
      ]
    },
    {
      "cell_type": "markdown",
      "metadata": {
        "id": "uDTmlU-Mz0fI"
      },
      "source": [
        "#### Activity 2: Train-Test Split\n",
        "\n",
        "We have to determine the effect of `Age` on purchase of the products. Thus, `Age` is the feature variable and `Purchased` is the target variable.\n",
        "\n",
        "- Split the dataset into training set and test set such that the training set contains 70% of the instances and the remaining instances will become the test set.\n",
        "\n",
        "- Reshape the feature and the target variable arrays into two-dimensional arrays by using `reshape(-1, 1)` function of `numpy` module.\n"
      ]
    },
    {
      "cell_type": "code",
      "metadata": {
        "id": "uYoe69GREXWK"
      },
      "source": [
        "# Splitting the DataFrame into the train and test sets.\n",
        "from sklearn.model_selection import train_test_split\n",
        "X = df[\"Age\"]\n",
        "y = df[\"Purchased\"]\n",
        "\n",
        "# Splitting the DataFrame into the train and test sets such that test set has 30% of the values.\n",
        "X_train,X_test,y_train,y_test = train_test_split(X,y,test_size=0.30,random_state=42)\n",
        "\n",
        "# Reshaping to 2-dimensional array.\n",
        "X_train_reshaped = X_train.values.reshape(-1,1)\n",
        "y_train_reshaped = y_train.values.reshape(-1,1)\n",
        "X_test_reshaped = X_test.values.reshape(-1,1)\n",
        "y_test_reshaped = y_test.values.reshape(-1,1)"
      ],
      "execution_count": null,
      "outputs": []
    },
    {
      "cell_type": "markdown",
      "metadata": {
        "id": "BKGeeZDCNuBY"
      },
      "source": [
        "----"
      ]
    },
    {
      "cell_type": "markdown",
      "metadata": {
        "id": "ud8dLfCGjh0E"
      },
      "source": [
        "#### Activity 3: Random Forest Classification - Model Training\n",
        "\n",
        "Implement Random Forest Classification using `sklearn` module in the following way:\n",
        "\n",
        "1. Deploy the model by importing the `RandomForestClassifier` class and create an object of this class.\n",
        "2. Call the `fit()` function using the Random Forest Classifier object and print score using `score()` function using the object created.\n"
      ]
    },
    {
      "cell_type": "code",
      "metadata": {
        "id": "yh2mu9ZkUz_e"
      },
      "source": [
        "# Importing the required modules from the 'sklearn.ensemble' and 'sklearn.metrics' libraries\n",
        "from sklearn.ensemble import RandomForestClassifier\n",
        "from sklearn.metrics import confusion_matrix , classification_report"
      ],
      "execution_count": null,
      "outputs": []
    },
    {
      "cell_type": "code",
      "metadata": {
        "id": "n4cMnv2jyQGz",
        "outputId": "1dd4fc41-9c2f-4da5-c54b-07e1bf2094c7",
        "colab": {
          "base_uri": "https://localhost:8080/"
        }
      },
      "source": [
        "# Training the Random Forest Classifier\n",
        "rf = RandomForestClassifier(n_jobs = -1,n_estimators=50)\n",
        "rf.fit(X_train_reshaped,y_train_reshaped)\n",
        "rf.score(X_train_reshaped,y_train_reshaped)"
      ],
      "execution_count": null,
      "outputs": [
        {
          "output_type": "stream",
          "name": "stderr",
          "text": [
            "/usr/local/lib/python3.7/dist-packages/ipykernel_launcher.py:3: DataConversionWarning: A column-vector y was passed when a 1d array was expected. Please change the shape of y to (n_samples,), for example using ravel().\n",
            "  This is separate from the ipykernel package so we can avoid doing imports until\n"
          ]
        },
        {
          "output_type": "execute_result",
          "data": {
            "text/plain": [
              "0.825"
            ]
          },
          "metadata": {},
          "execution_count": 9
        }
      ]
    },
    {
      "cell_type": "markdown",
      "metadata": {
        "id": "wUwWtI6HOg4e"
      },
      "source": [
        "-----"
      ]
    },
    {
      "cell_type": "markdown",
      "metadata": {
        "id": "fvIZzRlGOm3x"
      },
      "source": [
        "#### Activity 4: Random Forest Classification - Model Prediction and Evaluation\n",
        "\n",
        "Predict the values for both training and test sets by calling the `predict()` function on the Random Forest Classifier object.\n",
        "\n",
        "Also, compute confusion matrix and classification report values to evaluate the accuracy of your model."
      ]
    },
    {
      "cell_type": "code",
      "metadata": {
        "id": "ylnKkzbrT6Jr",
        "outputId": "f45eabcb-8b20-4e48-ee9f-f7a8dbba19bd",
        "colab": {
          "base_uri": "https://localhost:8080/"
        }
      },
      "source": [
        "# Makeing predictions on the test dataset by using the 'predict()' function.\n",
        "y_pred = rf.predict(X_test_reshaped)\n",
        "y_pred"
      ],
      "execution_count": null,
      "outputs": [
        {
          "output_type": "execute_result",
          "data": {
            "text/plain": [
              "array([1, 1, 0, 1, 0, 0, 1, 0, 0, 0, 0, 1, 0, 0, 0, 0, 1, 1, 1, 1, 0, 0,\n",
              "       1, 1, 0, 1, 0, 0, 1, 0, 1, 0, 0, 0, 0, 0, 0, 0, 0, 0, 1, 0, 0, 1,\n",
              "       0, 0, 0, 0, 1, 0, 0, 1, 0, 0, 0, 0, 1, 0, 0, 0, 0, 0, 1, 0, 0, 0,\n",
              "       0, 1, 1, 0, 1, 0, 0, 0, 1, 0, 1, 1, 0, 0, 0, 1, 1, 0, 1, 0, 0, 1,\n",
              "       0, 0, 1, 0, 0, 0, 0, 1, 1, 0, 1, 0, 1, 1, 1, 0, 0, 0, 1, 0, 1, 0,\n",
              "       0, 1, 1, 1, 0, 0, 0, 0, 0, 0])"
            ]
          },
          "metadata": {},
          "execution_count": 10
        }
      ]
    },
    {
      "cell_type": "code",
      "metadata": {
        "id": "KmE_7E7LjgHe",
        "outputId": "045b9002-132f-49b7-8830-891e9bcad7d2",
        "colab": {
          "base_uri": "https://localhost:8080/"
        }
      },
      "source": [
        "# Checking the count of records classified under each label\n",
        "df.value_counts()"
      ],
      "execution_count": null,
      "outputs": [
        {
          "output_type": "execute_result",
          "data": {
            "text/plain": [
              "User ID   Gender  Age  EstimatedSalary  Purchased\n",
              "15815236  Female  45   131000           1            1\n",
              "15660200  Female  37   71000            0            1\n",
              "15649668  Male    41   79000            0            1\n",
              "15651983  Male    34   112000           1            1\n",
              "15652400  Female  38   50000            0            1\n",
              "                                                    ..\n",
              "15733883  Male    47   25000            1            1\n",
              "15733964  Female  38   50000            0            1\n",
              "15733973  Female  47   113000           1            1\n",
              "15734161  Female  37   93000            1            1\n",
              "15566689  Female  35   57000            0            1\n",
              "Length: 400, dtype: int64"
            ]
          },
          "metadata": {},
          "execution_count": 12
        }
      ]
    },
    {
      "cell_type": "code",
      "metadata": {
        "id": "4_kCRRwloRd-",
        "outputId": "4230b3f0-6c35-4465-8d6a-676acf6e5739",
        "colab": {
          "base_uri": "https://localhost:8080/"
        }
      },
      "source": [
        "# Displaying the results of 'confusion_matrix'\n",
        "confusion_matrix(y_test_reshaped,y_pred)"
      ],
      "execution_count": null,
      "outputs": [
        {
          "output_type": "execute_result",
          "data": {
            "text/plain": [
              "array([[66,  7],\n",
              "       [12, 35]])"
            ]
          },
          "metadata": {},
          "execution_count": 13
        }
      ]
    },
    {
      "cell_type": "code",
      "metadata": {
        "id": "LMH7f---UTVy",
        "outputId": "977f3dae-a1c7-45f2-b492-6e4218c1d8fc",
        "colab": {
          "base_uri": "https://localhost:8080/"
        }
      },
      "source": [
        "# Displaying the precision, recall and f1-score values.\n",
        "print(classification_report(y_test_reshaped,y_pred))"
      ],
      "execution_count": null,
      "outputs": [
        {
          "output_type": "stream",
          "name": "stdout",
          "text": [
            "              precision    recall  f1-score   support\n",
            "\n",
            "           0       0.85      0.90      0.87        73\n",
            "           1       0.83      0.74      0.79        47\n",
            "\n",
            "    accuracy                           0.84       120\n",
            "   macro avg       0.84      0.82      0.83       120\n",
            "weighted avg       0.84      0.84      0.84       120\n",
            "\n"
          ]
        }
      ]
    },
    {
      "cell_type": "markdown",
      "metadata": {
        "id": "wIYiau2IR_gL"
      },
      "source": [
        "**Q** Write the count of f1-score of both labels?\n",
        "\n",
        "**A:** f1-score for 0: 0.87,\n",
        "       f1-score for 1: 0.79"
      ]
    },
    {
      "cell_type": "markdown",
      "metadata": {
        "id": "rhmsmtCNY7DD"
      },
      "source": [
        "----"
      ]
    },
    {
      "cell_type": "markdown",
      "metadata": {
        "id": "9hn9AfqoY7DE"
      },
      "source": [
        "#### Activity 5: Logistic Regression - Model Training\n",
        "\n",
        "Implement Logistic Regression Classification using `sklearn` module in the following way:\n",
        "\n",
        "1. Deploy the model by importing the `LogisticRegression` class and create an object of this class.\n",
        "2. Call the `fit()` function on the Logistic Regression object and print score using `score()` function using the object created.\n"
      ]
    },
    {
      "cell_type": "code",
      "metadata": {
        "id": "YxtlCGgAeUkl",
        "outputId": "b7db5a67-151f-46f9-a826-532d96c70fa6",
        "colab": {
          "base_uri": "https://localhost:8080/"
        }
      },
      "source": [
        "# Deploying the 'LogisticRegression' model using the 'fit()' function.\n",
        "from sklearn.linear_model import LogisticRegression\n",
        "log_reg = LogisticRegression(n_jobs=-1)\n",
        "log_reg.fit(X_train_reshaped,y_train_reshaped)\n",
        "log_reg.score(X_train_reshaped,y_train_reshaped)"
      ],
      "execution_count": null,
      "outputs": [
        {
          "output_type": "stream",
          "name": "stderr",
          "text": [
            "/usr/local/lib/python3.7/dist-packages/sklearn/utils/validation.py:760: DataConversionWarning: A column-vector y was passed when a 1d array was expected. Please change the shape of y to (n_samples, ), for example using ravel().\n",
            "  y = column_or_1d(y, warn=True)\n"
          ]
        },
        {
          "output_type": "execute_result",
          "data": {
            "text/plain": [
              "0.8214285714285714"
            ]
          },
          "metadata": {},
          "execution_count": 15
        }
      ]
    },
    {
      "cell_type": "markdown",
      "metadata": {
        "id": "xIoqmi5tarQC"
      },
      "source": [
        "----"
      ]
    },
    {
      "cell_type": "markdown",
      "metadata": {
        "id": "4J0gTaZrZoeK"
      },
      "source": [
        "#### Activity 6: Logistic Regression - Model Prediction and Evaluation\n",
        "\n",
        "Predict the values for both training and test sets by calling the `predict()` function on the Logistic Regression object.\n",
        "\n",
        "Also, compute the confusion matrix and classification report values to evaluate the accuracy of your model."
      ]
    },
    {
      "cell_type": "code",
      "metadata": {
        "id": "9JMQlyNOfDAq",
        "outputId": "4bd93c34-dfc0-4194-b16a-21eef89498b3",
        "colab": {
          "base_uri": "https://localhost:8080/"
        }
      },
      "source": [
        "# Making predictions on the test dataset by using the 'predict()' function.\n",
        "y_pred2 = log_reg.predict(X_test_reshaped)\n",
        "y_pred2"
      ],
      "execution_count": null,
      "outputs": [
        {
          "output_type": "execute_result",
          "data": {
            "text/plain": [
              "array([1, 1, 0, 1, 0, 0, 1, 0, 0, 0, 0, 1, 0, 0, 0, 0, 1, 1, 0, 1, 0, 0,\n",
              "       1, 1, 0, 1, 0, 0, 1, 0, 1, 0, 0, 0, 0, 0, 0, 0, 0, 0, 1, 0, 0, 1,\n",
              "       0, 1, 0, 0, 1, 0, 0, 1, 0, 0, 0, 0, 1, 0, 0, 0, 0, 0, 1, 0, 0, 0,\n",
              "       0, 1, 0, 0, 1, 0, 0, 0, 1, 0, 1, 1, 0, 0, 0, 1, 0, 1, 1, 0, 0, 1,\n",
              "       0, 0, 1, 0, 0, 0, 0, 0, 1, 0, 1, 0, 1, 0, 1, 0, 0, 0, 1, 0, 1, 0,\n",
              "       0, 0, 1, 1, 0, 0, 0, 0, 0, 0])"
            ]
          },
          "metadata": {},
          "execution_count": 16
        }
      ]
    },
    {
      "cell_type": "code",
      "metadata": {
        "id": "r24aTqpxfnQH",
        "outputId": "b8ac4c19-3d5e-412b-ef21-8b31280c13bc",
        "colab": {
          "base_uri": "https://localhost:8080/"
        }
      },
      "source": [
        "# Displaying the results of confusion_matrix\n",
        "confusion_matrix(y_test_reshaped,y_pred2)"
      ],
      "execution_count": null,
      "outputs": [
        {
          "output_type": "execute_result",
          "data": {
            "text/plain": [
              "array([[70,  3],\n",
              "       [12, 35]])"
            ]
          },
          "metadata": {},
          "execution_count": 18
        }
      ]
    },
    {
      "cell_type": "code",
      "metadata": {
        "id": "KO8P9HHCfnQN",
        "outputId": "c9966c2b-c41b-46e3-957d-8095497492fb",
        "colab": {
          "base_uri": "https://localhost:8080/"
        }
      },
      "source": [
        "# Displaying the results of classification_report\n",
        "print(classification_report(y_test_reshaped,y_pred2))"
      ],
      "execution_count": null,
      "outputs": [
        {
          "output_type": "stream",
          "name": "stdout",
          "text": [
            "              precision    recall  f1-score   support\n",
            "\n",
            "           0       0.85      0.96      0.90        73\n",
            "           1       0.92      0.74      0.82        47\n",
            "\n",
            "    accuracy                           0.88       120\n",
            "   macro avg       0.89      0.85      0.86       120\n",
            "weighted avg       0.88      0.88      0.87       120\n",
            "\n"
          ]
        }
      ]
    },
    {
      "cell_type": "markdown",
      "metadata": {
        "id": "pjyDMPuaaDYy"
      },
      "source": [
        "**Q** Write the count of f1-score of both labels?\n",
        "\n",
        "**A:** The count of f1-score of both the labels are 0.90 and 0.82"
      ]
    },
    {
      "cell_type": "markdown",
      "metadata": {
        "id": "G-iaOImYbQPn"
      },
      "source": [
        "-----"
      ]
    },
    {
      "cell_type": "markdown",
      "metadata": {
        "id": "hASrZQs2bSPw"
      },
      "source": [
        "#### Activity 7: Comparision and Conclusion\n",
        "\n",
        "Test both the models to predict labels using same random values of `Age` attribute."
      ]
    },
    {
      "cell_type": "code",
      "metadata": {
        "id": "B97SLEbh8yP5",
        "outputId": "1bc8bd3e-ff6e-476f-d783-f13ba8e00013",
        "colab": {
          "base_uri": "https://localhost:8080/"
        }
      },
      "source": [
        "# Using Logistic Regression\n",
        "print(\"\\nRandom Forest Classifier:\",rf.predict(df[\"Age\"].values.reshape(-1,1)),\"\\nLogistic Regression\",log_reg.predict(df[\"Age\"].values.reshape(-1,1)))"
      ],
      "execution_count": null,
      "outputs": [
        {
          "output_type": "stream",
          "name": "stdout",
          "text": [
            "\n",
            "Random Forest Classifier: [0 0 0 0 0 0 0 0 0 0 0 0 0 0 0 0 1 1 1 1 1 1 1 1 1 1 1 1 0 0 0 0 0 0 0 0 0\n",
            " 0 0 0 0 0 0 0 0 0 0 0 0 0 0 0 0 0 0 0 0 0 0 0 0 0 0 0 1 0 0 0 0 0 0 0 0 0\n",
            " 0 0 0 0 0 0 0 1 0 0 0 0 0 0 0 0 0 0 0 0 0 0 0 0 0 0 0 0 0 0 0 0 0 0 0 0 1\n",
            " 0 0 0 0 0 0 0 0 0 0 0 0 0 0 1 0 0 0 0 0 0 0 0 0 0 0 0 0 0 0 0 0 0 0 0 0 0\n",
            " 0 0 0 0 0 0 0 0 1 0 0 0 0 0 0 0 0 0 0 0 0 0 0 0 0 0 0 0 0 0 0 0 0 0 0 0 0\n",
            " 0 0 0 0 0 0 0 0 0 0 0 0 0 0 0 0 1 1 0 1 1 1 1 0 1 1 1 1 0 1 1 1 0 1 1 0 0\n",
            " 0 1 0 0 0 1 0 0 0 1 0 1 0 1 0 0 1 1 0 0 1 1 0 1 0 1 0 0 0 0 1 0 1 1 0 0 1\n",
            " 1 0 0 1 0 1 0 0 0 1 0 0 1 1 1 1 1 0 1 1 1 1 0 0 1 1 0 0 1 0 0 1 1 1 0 0 0\n",
            " 0 0 1 1 1 1 0 0 0 0 1 1 0 0 0 1 0 1 1 1 1 0 1 0 1 1 0 1 1 0 0 0 0 1 0 1 0\n",
            " 0 1 0 1 0 0 1 1 0 0 1 1 0 1 1 1 0 0 0 0 0 0 1 1 0 0 0 0 1 1 0 0 1 1 1 0 1\n",
            " 1 1 1 1 0 1 1 0 0 1 0 1 0 1 1 1 1 1 1 1 1 1 1 1 1 1 1 1 0 1] \n",
            "Logistic Regression [0 0 0 0 0 0 0 0 0 0 0 0 0 0 0 0 1 1 1 1 1 1 1 1 1 1 1 1 0 0 0 0 0 0 0 0 0\n",
            " 0 0 0 0 0 0 0 0 0 0 0 0 0 0 0 0 0 0 0 0 0 0 0 0 0 0 0 1 0 0 0 0 0 0 0 0 0\n",
            " 0 0 0 0 0 0 0 0 0 0 0 0 0 0 0 0 0 0 0 0 0 0 0 0 0 0 0 0 0 0 0 0 0 0 0 0 0\n",
            " 0 0 0 0 0 0 0 0 0 0 0 0 0 0 0 0 0 0 0 0 0 0 0 0 0 0 0 0 0 0 0 0 0 0 0 0 0\n",
            " 0 0 0 0 0 0 0 0 1 0 0 0 0 0 0 0 0 0 0 0 0 0 0 0 0 0 0 0 0 0 0 0 0 0 0 0 0\n",
            " 0 0 0 0 0 0 0 0 0 0 0 0 0 0 0 0 1 0 0 1 1 1 1 0 1 1 1 1 0 1 1 1 0 1 1 0 0\n",
            " 0 1 0 0 0 1 0 0 0 0 0 1 0 1 0 0 1 1 0 0 1 1 0 1 0 1 0 0 1 0 1 0 1 1 0 0 1\n",
            " 1 0 0 1 0 1 0 0 0 1 0 0 1 1 0 1 1 0 1 1 1 1 0 0 1 1 0 0 1 0 0 0 1 1 0 0 0\n",
            " 0 0 1 1 1 1 0 0 0 0 1 1 0 0 0 0 0 1 0 0 1 0 1 0 1 1 0 1 1 0 0 0 0 1 0 1 0\n",
            " 0 1 0 1 0 0 0 1 0 0 1 1 0 1 1 0 0 0 0 0 0 0 1 1 0 0 0 0 1 1 0 0 1 1 1 0 1\n",
            " 1 1 0 1 0 1 1 0 0 1 0 1 1 1 1 1 1 0 1 1 1 1 1 1 0 1 1 1 0 1]\n"
          ]
        }
      ]
    },
    {
      "cell_type": "markdown",
      "metadata": {
        "id": "Iv5oofuelp3C"
      },
      "source": [
        "**Q** Which model is better and why?\n",
        "\n",
        "**A:** The logistic regression model is better because it has higher f-1 score for both the labels which suggest that it has higher count of values for true positives and true negatives."
      ]
    },
    {
      "cell_type": "markdown",
      "metadata": {
        "id": "RcuEHS3WmTu7"
      },
      "source": [
        "------"
      ]
    }
  ]
}