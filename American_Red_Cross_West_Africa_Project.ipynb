{
  "nbformat": 4,
  "nbformat_minor": 0,
  "metadata": {
    "colab": {
      "provenance": [],
      "include_colab_link": true
    },
    "kernelspec": {
      "name": "python3",
      "display_name": "Python 3"
    },
    "language_info": {
      "name": "python"
    }
  },
  "cells": [
    {
      "cell_type": "markdown",
      "metadata": {
        "id": "view-in-github",
        "colab_type": "text"
      },
      "source": [
        "<a href=\"https://colab.research.google.com/github/madhumithadasarathy/My_Projects/blob/main/American_Red_Cross_West_Africa_Project.ipynb\" target=\"_parent\"><img src=\"https://colab.research.google.com/assets/colab-badge.svg\" alt=\"Open In Colab\"/></a>"
      ]
    },
    {
      "cell_type": "markdown",
      "metadata": {
        "id": "3QPIg5fcMvQ1"
      },
      "source": [
        "# Project: American Red Cross West Africa Project"
      ]
    },
    {
      "cell_type": "markdown",
      "metadata": {
        "id": "iGdCXl8wptTT"
      },
      "source": [
        "---"
      ]
    },
    {
      "cell_type": "markdown",
      "metadata": {
        "id": "h_7HKBqopcmH"
      },
      "source": [
        "### Context of Project\n",
        "\n",
        "  Covid-19 today has disrupted the working of the entire world. The last time a virus impacted the world to this magnitude was in 1918 (Spanish Flu). So, are viruses such a rare phenomenon or are they much more frequent than we think? The answer to this question is that there were five major outbreaks in the last twenty years.\n",
        " Namely,\n",
        "SARS (2003)\n",
        "H1N1 Flu(2009)\n",
        "MERS (2012)\n",
        "Ebola (2015)\n",
        " Zika(2015)\n",
        "\n",
        "  It should be noted that many of these viruses were much more deadly and had higher R0(average number of people one person will spread the virus) than covid. Then why was the impact of these viruses much lower as compared to Covid-19? The answer lies in the initial efforts taken by health organizations and governments. One of the classic examples of such an effort was during the Ebola outbreak of 2015. When the Ebola outbreak occurred in 2015 there were no maps or knowledge about the geography of the area. It was a mammoth task for the Red cross to get information about locations and then carry out work.  This project will surely make us appreciate the work of health agencies when dealing with such virus outbreak scenarios.\n",
        "\n",
        "  Maps have always played an important role in human history. Maps are of additional importance when we are facing a crisis. The majority of the world map is mapped very well in developed countries. This is not the case though in many underdeveloped west African countries. Millions of people live in an area not mapped properly.\n",
        "\n",
        "\n",
        "  During the Ebola crisis of 2014, this was a challenge for Red cross society to tackle this problem. Contact tracing was the most difficult task, particularly in the remote border areas which were the epicenter of the epidemic.\n",
        "\n",
        "  Through a private grant, the American Red Cross set out to expand its Missing Maps project to extensively map all areas within a 15 km distance of the shared borders between Guinea, Liberia, and Sierra Leone. The data were added into Open StreetMap, a free and editable world map commonly used by humanitarians.\n",
        "\n",
        "<img src=\"https://student-datasets-bucket.s3.ap-south-1.amazonaws.com/images/borders-countries.png\"/>\n",
        "\n",
        "The goal of this work is to create an open and comprehensive\n",
        "dataset of communities for West Africa and to ensure that\n",
        "decision-makers, humanitarian workers, and community\n",
        "stakeholders are better aware of water, sanitation, health,\n",
        "and community resources before and during the next crisis,\n",
        "potentially preventing or slowing the spread of infectious\n",
        "disease during future outbreaks.\n",
        "\n",
        "  We will analyze this centers on various parameters and try to answer the questions.\n",
        "\n",
        "\n"
      ]
    },
    {
      "cell_type": "markdown",
      "metadata": {
        "id": "IgJFqOYopuKz"
      },
      "source": [
        "---"
      ]
    },
    {
      "cell_type": "markdown",
      "metadata": {
        "id": "Ie4GMYv1pvLu"
      },
      "source": [
        "\n",
        "\n",
        "### Problem Statement:\n",
        "\n",
        "\n",
        "In this project, we will analyze three datasets.\n",
        "\n",
        "1. Red cross health facility centers, given in file `redcross_westafrica_health_facilities_9.csv`. These are facilities opened up by the Red cross.\n",
        "\n",
        "2. Red cross points of interest, given in the file `redcross_westafrica_pois_10.csv`. These are additional centers that can help in the required task.\n",
        "\n",
        "3. Red cross rapid assessment centers, given in the file `redcross_westafrica_rapidassessment_survey_csv_13.csv`. These points are where surveys are taking place in the local area.\n",
        "\n",
        "The following questions are answered based on this dataset.  \n",
        "\n",
        "1. Average number of beds available in health facilities and points of interest datasets.\n",
        "\n",
        "2. Average number of medical staff(doctors and nurses individually) available in these areas for both health facilities and points of interest.\n",
        "\n",
        "3. Plot the graph of electricity, operator, and water source for health facilities and points of interest datasets.\n",
        "\n",
        "4. Find the number of health facilities and points of interest open 24/7?\n",
        "\n",
        "5. What is the average score given to drinking water, water timing, and toilet in centers where the survey is done?\n",
        "\n",
        "Following attributes are to be used in this project:\n",
        "\n",
        "For `redcross_westafrica_health_facilities_9.csv` dataset:\n",
        "\n",
        "1. `tags_bed_count`: Number of beds in the facility.\n",
        "\n",
        "2. `tags_doctors_num` : Number of doctors in the facility.\n",
        "\n",
        "3. `tags_nurses_num` : Number of nurses in the facility.\n",
        "\n",
        "4. `tags_electricity`: Type of electricity source.\n",
        "\n",
        "5. `tags_operator`: Type of Operator of the facility.\n",
        "\n",
        "6. `tags_water_source`: Major source of water.\n",
        "\n",
        "7. `tags_opening_hours` : Type of opening hours.\n",
        "\n",
        "For `redcross_westafrica_pois_10.csv` dataset:\n",
        "\n",
        "1. `tags_bed_count`: Number of beds in the facility.\n",
        "\n",
        "2. `tags_doctors_num` : Number of doctors in the facility.\n",
        "\n",
        "3. `tags_nurses_num` : Number of nurses in the facility.\n",
        "\n",
        "4. `tags_electricity`: Type of electricity source.\n",
        "\n",
        "5. `tags_operator`: Type of Operator of the facility.\n",
        "\n",
        "6. `tags_water_source`: Major source of water.\n",
        "\n",
        "7. `tags_opening_hours` : Type of opening hours.\n",
        "\n",
        "For `redcross_westafrica_rapidassessment_survey_csv_13.csv` dataset:\n",
        "\n",
        "1. `drink_wat` : Score out of 100 for drinking water facility at survey center.\n",
        "\n",
        "2. `water_time`: Score out of 100 for water timing facility at survey center.\n",
        "\n",
        "3. `toilet` : Score out of 100 for toilet facility at survey center.\n",
        "\n",
        "\n",
        "\n"
      ]
    },
    {
      "cell_type": "markdown",
      "metadata": {
        "id": "479nX-o6p0H0"
      },
      "source": [
        "---"
      ]
    },
    {
      "cell_type": "markdown",
      "metadata": {
        "id": "gFiKEiM4nwBq"
      },
      "source": [
        "#### Activity 1: Dataset.\n",
        "\n",
        "Downloading the data from the link.\n",
        "\n",
        "- Health facility center.\n",
        "\n",
        "- Points of interest.\n",
        "\n",
        "- Rapid assesment centers."
      ]
    },
    {
      "cell_type": "markdown",
      "metadata": {
        "id": "qEaMLGfAqM4a"
      },
      "source": [
        "Reading the dataset  `redcross_westafrica_health_facilities_9.csv` and storing it in a dataframe `health_facilities`.\n",
        "\n",
        "Printing the number of rows and columns.\n",
        "\n",
        "Printing the first 5 entries in the dataframe."
      ]
    },
    {
      "cell_type": "code",
      "metadata": {
        "id": "UYW95RlVpUUf",
        "colab": {
          "base_uri": "https://localhost:8080/",
          "height": 342
        },
        "outputId": "791ddb78-12aa-4d9d-ff43-15acd467edfa"
      },
      "source": [
        "# Importing required libraries\n",
        "import pandas as pd\n",
        "import matplotlib.pyplot as plt\n",
        "import seaborn as sns\n",
        "import warnings\n",
        "# Reading the dataset redcross_westafrica_health_facilities_9.csv and storing it in a dataframe health_facilities\n",
        "health_facilities = pd.read_csv(\"https://student-datasets-bucket.s3.ap-south-1.amazonaws.com/whitehat-ds-datasets/redcross_westafrica_health_facilities_9.csv\")\n",
        "# Returning the number of rows and columns\n",
        "health_facilities.shape\n",
        "# Printing first five rows using head() function\n",
        "health_facilities.head()"
      ],
      "execution_count": 1,
      "outputs": [
        {
          "output_type": "execute_result",
          "data": {
            "text/plain": [
              "   type          id       lat        lon tags_addr_city tags_amenity  \\\n",
              "0  node  4131212879  7.575563  -8.539124         Yekepa     hospital   \n",
              "1  node  4131212880  8.331762 -10.066910        Balahun       clinic   \n",
              "2  node  4131212881  7.221481 -11.172409       Bamballa       clinic   \n",
              "3  node  4131212882  7.082069 -11.212406       Bangorma       clinic   \n",
              "4  node  4131212883  8.155049  -9.649732       Barzawon       clinic   \n",
              "\n",
              "  tags_bed_count tags_dispensing tags_doctors_num tags_electricity  ...  \\\n",
              "0             60             yes                2        generator  ...   \n",
              "1            NaN             NaN                0              NaN  ...   \n",
              "2              4             yes                0            solar  ...   \n",
              "3              7             yes                0        generator  ...   \n",
              "4              1             NaN              NaN            solar  ...   \n",
              "\n",
              "  tags_man_made tags_shop tags_office tags_building tags_building_condition  \\\n",
              "0           NaN       NaN         NaN           NaN                     NaN   \n",
              "1           NaN       NaN         NaN           NaN                     NaN   \n",
              "2           NaN       NaN         NaN           NaN                     NaN   \n",
              "3           NaN       NaN         NaN           NaN                     NaN   \n",
              "4           NaN       NaN         NaN           NaN                     NaN   \n",
              "\n",
              "  tags_building_levels tags_cuisine nodes tags_source_date  \\\n",
              "0                  NaN          NaN   NaN              NaN   \n",
              "1                  NaN          NaN   NaN              NaN   \n",
              "2                  NaN          NaN   NaN              NaN   \n",
              "3                  NaN          NaN   NaN              NaN   \n",
              "4                  NaN          NaN   NaN              NaN   \n",
              "\n",
              "                       location  \n",
              "0   POINT(-8.5391235 7.5755633)  \n",
              "1  POINT(-10.0669098 8.3317622)  \n",
              "2  POINT(-11.1724091 7.2214808)  \n",
              "3  POINT(-11.2124062 7.0820692)  \n",
              "4   POINT(-9.6497319 8.1550488)  \n",
              "\n",
              "[5 rows x 41 columns]"
            ],
            "text/html": [
              "\n",
              "  <div id=\"df-bbbae337-dee6-443a-8cfe-cff9a998d159\" class=\"colab-df-container\">\n",
              "    <div>\n",
              "<style scoped>\n",
              "    .dataframe tbody tr th:only-of-type {\n",
              "        vertical-align: middle;\n",
              "    }\n",
              "\n",
              "    .dataframe tbody tr th {\n",
              "        vertical-align: top;\n",
              "    }\n",
              "\n",
              "    .dataframe thead th {\n",
              "        text-align: right;\n",
              "    }\n",
              "</style>\n",
              "<table border=\"1\" class=\"dataframe\">\n",
              "  <thead>\n",
              "    <tr style=\"text-align: right;\">\n",
              "      <th></th>\n",
              "      <th>type</th>\n",
              "      <th>id</th>\n",
              "      <th>lat</th>\n",
              "      <th>lon</th>\n",
              "      <th>tags_addr_city</th>\n",
              "      <th>tags_amenity</th>\n",
              "      <th>tags_bed_count</th>\n",
              "      <th>tags_dispensing</th>\n",
              "      <th>tags_doctors_num</th>\n",
              "      <th>tags_electricity</th>\n",
              "      <th>...</th>\n",
              "      <th>tags_man_made</th>\n",
              "      <th>tags_shop</th>\n",
              "      <th>tags_office</th>\n",
              "      <th>tags_building</th>\n",
              "      <th>tags_building_condition</th>\n",
              "      <th>tags_building_levels</th>\n",
              "      <th>tags_cuisine</th>\n",
              "      <th>nodes</th>\n",
              "      <th>tags_source_date</th>\n",
              "      <th>location</th>\n",
              "    </tr>\n",
              "  </thead>\n",
              "  <tbody>\n",
              "    <tr>\n",
              "      <th>0</th>\n",
              "      <td>node</td>\n",
              "      <td>4131212879</td>\n",
              "      <td>7.575563</td>\n",
              "      <td>-8.539124</td>\n",
              "      <td>Yekepa</td>\n",
              "      <td>hospital</td>\n",
              "      <td>60</td>\n",
              "      <td>yes</td>\n",
              "      <td>2</td>\n",
              "      <td>generator</td>\n",
              "      <td>...</td>\n",
              "      <td>NaN</td>\n",
              "      <td>NaN</td>\n",
              "      <td>NaN</td>\n",
              "      <td>NaN</td>\n",
              "      <td>NaN</td>\n",
              "      <td>NaN</td>\n",
              "      <td>NaN</td>\n",
              "      <td>NaN</td>\n",
              "      <td>NaN</td>\n",
              "      <td>POINT(-8.5391235 7.5755633)</td>\n",
              "    </tr>\n",
              "    <tr>\n",
              "      <th>1</th>\n",
              "      <td>node</td>\n",
              "      <td>4131212880</td>\n",
              "      <td>8.331762</td>\n",
              "      <td>-10.066910</td>\n",
              "      <td>Balahun</td>\n",
              "      <td>clinic</td>\n",
              "      <td>NaN</td>\n",
              "      <td>NaN</td>\n",
              "      <td>0</td>\n",
              "      <td>NaN</td>\n",
              "      <td>...</td>\n",
              "      <td>NaN</td>\n",
              "      <td>NaN</td>\n",
              "      <td>NaN</td>\n",
              "      <td>NaN</td>\n",
              "      <td>NaN</td>\n",
              "      <td>NaN</td>\n",
              "      <td>NaN</td>\n",
              "      <td>NaN</td>\n",
              "      <td>NaN</td>\n",
              "      <td>POINT(-10.0669098 8.3317622)</td>\n",
              "    </tr>\n",
              "    <tr>\n",
              "      <th>2</th>\n",
              "      <td>node</td>\n",
              "      <td>4131212881</td>\n",
              "      <td>7.221481</td>\n",
              "      <td>-11.172409</td>\n",
              "      <td>Bamballa</td>\n",
              "      <td>clinic</td>\n",
              "      <td>4</td>\n",
              "      <td>yes</td>\n",
              "      <td>0</td>\n",
              "      <td>solar</td>\n",
              "      <td>...</td>\n",
              "      <td>NaN</td>\n",
              "      <td>NaN</td>\n",
              "      <td>NaN</td>\n",
              "      <td>NaN</td>\n",
              "      <td>NaN</td>\n",
              "      <td>NaN</td>\n",
              "      <td>NaN</td>\n",
              "      <td>NaN</td>\n",
              "      <td>NaN</td>\n",
              "      <td>POINT(-11.1724091 7.2214808)</td>\n",
              "    </tr>\n",
              "    <tr>\n",
              "      <th>3</th>\n",
              "      <td>node</td>\n",
              "      <td>4131212882</td>\n",
              "      <td>7.082069</td>\n",
              "      <td>-11.212406</td>\n",
              "      <td>Bangorma</td>\n",
              "      <td>clinic</td>\n",
              "      <td>7</td>\n",
              "      <td>yes</td>\n",
              "      <td>0</td>\n",
              "      <td>generator</td>\n",
              "      <td>...</td>\n",
              "      <td>NaN</td>\n",
              "      <td>NaN</td>\n",
              "      <td>NaN</td>\n",
              "      <td>NaN</td>\n",
              "      <td>NaN</td>\n",
              "      <td>NaN</td>\n",
              "      <td>NaN</td>\n",
              "      <td>NaN</td>\n",
              "      <td>NaN</td>\n",
              "      <td>POINT(-11.2124062 7.0820692)</td>\n",
              "    </tr>\n",
              "    <tr>\n",
              "      <th>4</th>\n",
              "      <td>node</td>\n",
              "      <td>4131212883</td>\n",
              "      <td>8.155049</td>\n",
              "      <td>-9.649732</td>\n",
              "      <td>Barzawon</td>\n",
              "      <td>clinic</td>\n",
              "      <td>1</td>\n",
              "      <td>NaN</td>\n",
              "      <td>NaN</td>\n",
              "      <td>solar</td>\n",
              "      <td>...</td>\n",
              "      <td>NaN</td>\n",
              "      <td>NaN</td>\n",
              "      <td>NaN</td>\n",
              "      <td>NaN</td>\n",
              "      <td>NaN</td>\n",
              "      <td>NaN</td>\n",
              "      <td>NaN</td>\n",
              "      <td>NaN</td>\n",
              "      <td>NaN</td>\n",
              "      <td>POINT(-9.6497319 8.1550488)</td>\n",
              "    </tr>\n",
              "  </tbody>\n",
              "</table>\n",
              "<p>5 rows × 41 columns</p>\n",
              "</div>\n",
              "    <div class=\"colab-df-buttons\">\n",
              "\n",
              "  <div class=\"colab-df-container\">\n",
              "    <button class=\"colab-df-convert\" onclick=\"convertToInteractive('df-bbbae337-dee6-443a-8cfe-cff9a998d159')\"\n",
              "            title=\"Convert this dataframe to an interactive table.\"\n",
              "            style=\"display:none;\">\n",
              "\n",
              "  <svg xmlns=\"http://www.w3.org/2000/svg\" height=\"24px\" viewBox=\"0 -960 960 960\">\n",
              "    <path d=\"M120-120v-720h720v720H120Zm60-500h600v-160H180v160Zm220 220h160v-160H400v160Zm0 220h160v-160H400v160ZM180-400h160v-160H180v160Zm440 0h160v-160H620v160ZM180-180h160v-160H180v160Zm440 0h160v-160H620v160Z\"/>\n",
              "  </svg>\n",
              "    </button>\n",
              "\n",
              "  <style>\n",
              "    .colab-df-container {\n",
              "      display:flex;\n",
              "      gap: 12px;\n",
              "    }\n",
              "\n",
              "    .colab-df-convert {\n",
              "      background-color: #E8F0FE;\n",
              "      border: none;\n",
              "      border-radius: 50%;\n",
              "      cursor: pointer;\n",
              "      display: none;\n",
              "      fill: #1967D2;\n",
              "      height: 32px;\n",
              "      padding: 0 0 0 0;\n",
              "      width: 32px;\n",
              "    }\n",
              "\n",
              "    .colab-df-convert:hover {\n",
              "      background-color: #E2EBFA;\n",
              "      box-shadow: 0px 1px 2px rgba(60, 64, 67, 0.3), 0px 1px 3px 1px rgba(60, 64, 67, 0.15);\n",
              "      fill: #174EA6;\n",
              "    }\n",
              "\n",
              "    .colab-df-buttons div {\n",
              "      margin-bottom: 4px;\n",
              "    }\n",
              "\n",
              "    [theme=dark] .colab-df-convert {\n",
              "      background-color: #3B4455;\n",
              "      fill: #D2E3FC;\n",
              "    }\n",
              "\n",
              "    [theme=dark] .colab-df-convert:hover {\n",
              "      background-color: #434B5C;\n",
              "      box-shadow: 0px 1px 3px 1px rgba(0, 0, 0, 0.15);\n",
              "      filter: drop-shadow(0px 1px 2px rgba(0, 0, 0, 0.3));\n",
              "      fill: #FFFFFF;\n",
              "    }\n",
              "  </style>\n",
              "\n",
              "    <script>\n",
              "      const buttonEl =\n",
              "        document.querySelector('#df-bbbae337-dee6-443a-8cfe-cff9a998d159 button.colab-df-convert');\n",
              "      buttonEl.style.display =\n",
              "        google.colab.kernel.accessAllowed ? 'block' : 'none';\n",
              "\n",
              "      async function convertToInteractive(key) {\n",
              "        const element = document.querySelector('#df-bbbae337-dee6-443a-8cfe-cff9a998d159');\n",
              "        const dataTable =\n",
              "          await google.colab.kernel.invokeFunction('convertToInteractive',\n",
              "                                                    [key], {});\n",
              "        if (!dataTable) return;\n",
              "\n",
              "        const docLinkHtml = 'Like what you see? Visit the ' +\n",
              "          '<a target=\"_blank\" href=https://colab.research.google.com/notebooks/data_table.ipynb>data table notebook</a>'\n",
              "          + ' to learn more about interactive tables.';\n",
              "        element.innerHTML = '';\n",
              "        dataTable['output_type'] = 'display_data';\n",
              "        await google.colab.output.renderOutput(dataTable, element);\n",
              "        const docLink = document.createElement('div');\n",
              "        docLink.innerHTML = docLinkHtml;\n",
              "        element.appendChild(docLink);\n",
              "      }\n",
              "    </script>\n",
              "  </div>\n",
              "\n",
              "\n",
              "<div id=\"df-afc1c7da-0385-4b14-8763-2d22acfade69\">\n",
              "  <button class=\"colab-df-quickchart\" onclick=\"quickchart('df-afc1c7da-0385-4b14-8763-2d22acfade69')\"\n",
              "            title=\"Suggest charts.\"\n",
              "            style=\"display:none;\">\n",
              "\n",
              "<svg xmlns=\"http://www.w3.org/2000/svg\" height=\"24px\"viewBox=\"0 0 24 24\"\n",
              "     width=\"24px\">\n",
              "    <g>\n",
              "        <path d=\"M19 3H5c-1.1 0-2 .9-2 2v14c0 1.1.9 2 2 2h14c1.1 0 2-.9 2-2V5c0-1.1-.9-2-2-2zM9 17H7v-7h2v7zm4 0h-2V7h2v10zm4 0h-2v-4h2v4z\"/>\n",
              "    </g>\n",
              "</svg>\n",
              "  </button>\n",
              "\n",
              "<style>\n",
              "  .colab-df-quickchart {\n",
              "    background-color: #E8F0FE;\n",
              "    border: none;\n",
              "    border-radius: 50%;\n",
              "    cursor: pointer;\n",
              "    display: none;\n",
              "    fill: #1967D2;\n",
              "    height: 32px;\n",
              "    padding: 0 0 0 0;\n",
              "    width: 32px;\n",
              "  }\n",
              "\n",
              "  .colab-df-quickchart:hover {\n",
              "    background-color: #E2EBFA;\n",
              "    box-shadow: 0px 1px 2px rgba(60, 64, 67, 0.3), 0px 1px 3px 1px rgba(60, 64, 67, 0.15);\n",
              "    fill: #174EA6;\n",
              "  }\n",
              "\n",
              "  [theme=dark] .colab-df-quickchart {\n",
              "    background-color: #3B4455;\n",
              "    fill: #D2E3FC;\n",
              "  }\n",
              "\n",
              "  [theme=dark] .colab-df-quickchart:hover {\n",
              "    background-color: #434B5C;\n",
              "    box-shadow: 0px 1px 3px 1px rgba(0, 0, 0, 0.15);\n",
              "    filter: drop-shadow(0px 1px 2px rgba(0, 0, 0, 0.3));\n",
              "    fill: #FFFFFF;\n",
              "  }\n",
              "</style>\n",
              "\n",
              "  <script>\n",
              "    async function quickchart(key) {\n",
              "      const charts = await google.colab.kernel.invokeFunction(\n",
              "          'suggestCharts', [key], {});\n",
              "    }\n",
              "    (() => {\n",
              "      let quickchartButtonEl =\n",
              "        document.querySelector('#df-afc1c7da-0385-4b14-8763-2d22acfade69 button');\n",
              "      quickchartButtonEl.style.display =\n",
              "        google.colab.kernel.accessAllowed ? 'block' : 'none';\n",
              "    })();\n",
              "  </script>\n",
              "</div>\n",
              "    </div>\n",
              "  </div>\n"
            ]
          },
          "metadata": {},
          "execution_count": 1
        }
      ]
    },
    {
      "cell_type": "markdown",
      "metadata": {
        "id": "NPDs5OL7qoYF"
      },
      "source": [
        "Reading the dataset  `redcross_westafrica_pois_10.csv` and storing it in a dataframe `point_of_interest`.\n",
        "\n",
        "Printing the number of rows and columns.\n",
        "\n",
        "Printing the first 5 entries in the dataframe."
      ]
    },
    {
      "cell_type": "code",
      "metadata": {
        "id": "rn8IeCYfqqzz",
        "colab": {
          "base_uri": "https://localhost:8080/",
          "height": 360
        },
        "outputId": "1fb52789-99bd-4dea-bf8a-e2b878899b61"
      },
      "source": [
        "# Reading the dataset  redcross_westafrica_pois_10.csv and store it in a dataframe point_of_interest\n",
        "point_of_interest = pd.read_csv(\"https://student-datasets-bucket.s3.ap-south-1.amazonaws.com/whitehat-ds-datasets/redcross_westafrica_pois_10.csv\")\n",
        "\n",
        "# Returning the number of rows and columns\n",
        "point_of_interest.shape\n",
        "\n",
        "# Printing first five rows using head() function\n",
        "point_of_interest.head()"
      ],
      "execution_count": 2,
      "outputs": [
        {
          "output_type": "execute_result",
          "data": {
            "text/plain": [
              "   type          id       lat        lon tags_addr_city tags_amenity  \\\n",
              "0  node   988037702  8.485455 -13.236955       Freetown   restaurant   \n",
              "1  node  4100642480  7.364712  -8.706826   Sanniquellie       school   \n",
              "2  node  4131212879  7.575563  -8.539124         Yekepa     hospital   \n",
              "3  node  4131212880  8.331762 -10.066910        Balahun       clinic   \n",
              "4  node  4131212881  7.221481 -11.172409       Bamballa       clinic   \n",
              "\n",
              "                   tags_name             tags_source  \\\n",
              "0              Siakastevensr  Red Cross Field Survey   \n",
              "1        St.Mary High School  Red Cross Field Survey   \n",
              "2     Arcelormittal Hospital  Red Cross Field Survey   \n",
              "3       Balahun Faith Clinic  Red Cross Field Survey   \n",
              "4  Bamballa Community Clinic  Red Cross Field Survey   \n",
              "\n",
              "           tags_addr_street tags_capacity  ... tags_addr_state  \\\n",
              "0                       NaN           NaN  ...             NaN   \n",
              "1  Sanniquellie Main Street           735  ...             NaN   \n",
              "2                       NaN           NaN  ...             NaN   \n",
              "3                       NaN           NaN  ...             NaN   \n",
              "4                       NaN           NaN  ...             NaN   \n",
              "\n",
              "  tags_contact_phone tags_healthcare_specialty tags_drinking_water  \\\n",
              "0                NaN                       NaN                 NaN   \n",
              "1                NaN                       NaN                 NaN   \n",
              "2                NaN                       NaN                 NaN   \n",
              "3                NaN                       NaN                 NaN   \n",
              "4                NaN                       NaN                 NaN   \n",
              "\n",
              "  tags_man_made tags_pump tags_pump_status tags_natural  \\\n",
              "0           NaN       NaN              NaN          NaN   \n",
              "1           NaN       NaN              NaN          NaN   \n",
              "2           NaN       NaN              NaN          NaN   \n",
              "3           NaN       NaN              NaN          NaN   \n",
              "4           NaN       NaN              NaN          NaN   \n",
              "\n",
              "  tags_operational_status                      location  \n",
              "0                     NaN  POINT(-13.2369551 8.4854546)  \n",
              "1                     NaN   POINT(-8.7068260 7.3647120)  \n",
              "2                     NaN   POINT(-8.5391235 7.5755633)  \n",
              "3                     NaN  POINT(-10.0669098 8.3317622)  \n",
              "4                     NaN  POINT(-11.1724091 7.2214808)  \n",
              "\n",
              "[5 rows x 44 columns]"
            ],
            "text/html": [
              "\n",
              "  <div id=\"df-7cedf902-0608-41bf-b970-7311f4a00be4\" class=\"colab-df-container\">\n",
              "    <div>\n",
              "<style scoped>\n",
              "    .dataframe tbody tr th:only-of-type {\n",
              "        vertical-align: middle;\n",
              "    }\n",
              "\n",
              "    .dataframe tbody tr th {\n",
              "        vertical-align: top;\n",
              "    }\n",
              "\n",
              "    .dataframe thead th {\n",
              "        text-align: right;\n",
              "    }\n",
              "</style>\n",
              "<table border=\"1\" class=\"dataframe\">\n",
              "  <thead>\n",
              "    <tr style=\"text-align: right;\">\n",
              "      <th></th>\n",
              "      <th>type</th>\n",
              "      <th>id</th>\n",
              "      <th>lat</th>\n",
              "      <th>lon</th>\n",
              "      <th>tags_addr_city</th>\n",
              "      <th>tags_amenity</th>\n",
              "      <th>tags_name</th>\n",
              "      <th>tags_source</th>\n",
              "      <th>tags_addr_street</th>\n",
              "      <th>tags_capacity</th>\n",
              "      <th>...</th>\n",
              "      <th>tags_addr_state</th>\n",
              "      <th>tags_contact_phone</th>\n",
              "      <th>tags_healthcare_specialty</th>\n",
              "      <th>tags_drinking_water</th>\n",
              "      <th>tags_man_made</th>\n",
              "      <th>tags_pump</th>\n",
              "      <th>tags_pump_status</th>\n",
              "      <th>tags_natural</th>\n",
              "      <th>tags_operational_status</th>\n",
              "      <th>location</th>\n",
              "    </tr>\n",
              "  </thead>\n",
              "  <tbody>\n",
              "    <tr>\n",
              "      <th>0</th>\n",
              "      <td>node</td>\n",
              "      <td>988037702</td>\n",
              "      <td>8.485455</td>\n",
              "      <td>-13.236955</td>\n",
              "      <td>Freetown</td>\n",
              "      <td>restaurant</td>\n",
              "      <td>Siakastevensr</td>\n",
              "      <td>Red Cross Field Survey</td>\n",
              "      <td>NaN</td>\n",
              "      <td>NaN</td>\n",
              "      <td>...</td>\n",
              "      <td>NaN</td>\n",
              "      <td>NaN</td>\n",
              "      <td>NaN</td>\n",
              "      <td>NaN</td>\n",
              "      <td>NaN</td>\n",
              "      <td>NaN</td>\n",
              "      <td>NaN</td>\n",
              "      <td>NaN</td>\n",
              "      <td>NaN</td>\n",
              "      <td>POINT(-13.2369551 8.4854546)</td>\n",
              "    </tr>\n",
              "    <tr>\n",
              "      <th>1</th>\n",
              "      <td>node</td>\n",
              "      <td>4100642480</td>\n",
              "      <td>7.364712</td>\n",
              "      <td>-8.706826</td>\n",
              "      <td>Sanniquellie</td>\n",
              "      <td>school</td>\n",
              "      <td>St.Mary High School</td>\n",
              "      <td>Red Cross Field Survey</td>\n",
              "      <td>Sanniquellie Main Street</td>\n",
              "      <td>735</td>\n",
              "      <td>...</td>\n",
              "      <td>NaN</td>\n",
              "      <td>NaN</td>\n",
              "      <td>NaN</td>\n",
              "      <td>NaN</td>\n",
              "      <td>NaN</td>\n",
              "      <td>NaN</td>\n",
              "      <td>NaN</td>\n",
              "      <td>NaN</td>\n",
              "      <td>NaN</td>\n",
              "      <td>POINT(-8.7068260 7.3647120)</td>\n",
              "    </tr>\n",
              "    <tr>\n",
              "      <th>2</th>\n",
              "      <td>node</td>\n",
              "      <td>4131212879</td>\n",
              "      <td>7.575563</td>\n",
              "      <td>-8.539124</td>\n",
              "      <td>Yekepa</td>\n",
              "      <td>hospital</td>\n",
              "      <td>Arcelormittal Hospital</td>\n",
              "      <td>Red Cross Field Survey</td>\n",
              "      <td>NaN</td>\n",
              "      <td>NaN</td>\n",
              "      <td>...</td>\n",
              "      <td>NaN</td>\n",
              "      <td>NaN</td>\n",
              "      <td>NaN</td>\n",
              "      <td>NaN</td>\n",
              "      <td>NaN</td>\n",
              "      <td>NaN</td>\n",
              "      <td>NaN</td>\n",
              "      <td>NaN</td>\n",
              "      <td>NaN</td>\n",
              "      <td>POINT(-8.5391235 7.5755633)</td>\n",
              "    </tr>\n",
              "    <tr>\n",
              "      <th>3</th>\n",
              "      <td>node</td>\n",
              "      <td>4131212880</td>\n",
              "      <td>8.331762</td>\n",
              "      <td>-10.066910</td>\n",
              "      <td>Balahun</td>\n",
              "      <td>clinic</td>\n",
              "      <td>Balahun Faith Clinic</td>\n",
              "      <td>Red Cross Field Survey</td>\n",
              "      <td>NaN</td>\n",
              "      <td>NaN</td>\n",
              "      <td>...</td>\n",
              "      <td>NaN</td>\n",
              "      <td>NaN</td>\n",
              "      <td>NaN</td>\n",
              "      <td>NaN</td>\n",
              "      <td>NaN</td>\n",
              "      <td>NaN</td>\n",
              "      <td>NaN</td>\n",
              "      <td>NaN</td>\n",
              "      <td>NaN</td>\n",
              "      <td>POINT(-10.0669098 8.3317622)</td>\n",
              "    </tr>\n",
              "    <tr>\n",
              "      <th>4</th>\n",
              "      <td>node</td>\n",
              "      <td>4131212881</td>\n",
              "      <td>7.221481</td>\n",
              "      <td>-11.172409</td>\n",
              "      <td>Bamballa</td>\n",
              "      <td>clinic</td>\n",
              "      <td>Bamballa Community Clinic</td>\n",
              "      <td>Red Cross Field Survey</td>\n",
              "      <td>NaN</td>\n",
              "      <td>NaN</td>\n",
              "      <td>...</td>\n",
              "      <td>NaN</td>\n",
              "      <td>NaN</td>\n",
              "      <td>NaN</td>\n",
              "      <td>NaN</td>\n",
              "      <td>NaN</td>\n",
              "      <td>NaN</td>\n",
              "      <td>NaN</td>\n",
              "      <td>NaN</td>\n",
              "      <td>NaN</td>\n",
              "      <td>POINT(-11.1724091 7.2214808)</td>\n",
              "    </tr>\n",
              "  </tbody>\n",
              "</table>\n",
              "<p>5 rows × 44 columns</p>\n",
              "</div>\n",
              "    <div class=\"colab-df-buttons\">\n",
              "\n",
              "  <div class=\"colab-df-container\">\n",
              "    <button class=\"colab-df-convert\" onclick=\"convertToInteractive('df-7cedf902-0608-41bf-b970-7311f4a00be4')\"\n",
              "            title=\"Convert this dataframe to an interactive table.\"\n",
              "            style=\"display:none;\">\n",
              "\n",
              "  <svg xmlns=\"http://www.w3.org/2000/svg\" height=\"24px\" viewBox=\"0 -960 960 960\">\n",
              "    <path d=\"M120-120v-720h720v720H120Zm60-500h600v-160H180v160Zm220 220h160v-160H400v160Zm0 220h160v-160H400v160ZM180-400h160v-160H180v160Zm440 0h160v-160H620v160ZM180-180h160v-160H180v160Zm440 0h160v-160H620v160Z\"/>\n",
              "  </svg>\n",
              "    </button>\n",
              "\n",
              "  <style>\n",
              "    .colab-df-container {\n",
              "      display:flex;\n",
              "      gap: 12px;\n",
              "    }\n",
              "\n",
              "    .colab-df-convert {\n",
              "      background-color: #E8F0FE;\n",
              "      border: none;\n",
              "      border-radius: 50%;\n",
              "      cursor: pointer;\n",
              "      display: none;\n",
              "      fill: #1967D2;\n",
              "      height: 32px;\n",
              "      padding: 0 0 0 0;\n",
              "      width: 32px;\n",
              "    }\n",
              "\n",
              "    .colab-df-convert:hover {\n",
              "      background-color: #E2EBFA;\n",
              "      box-shadow: 0px 1px 2px rgba(60, 64, 67, 0.3), 0px 1px 3px 1px rgba(60, 64, 67, 0.15);\n",
              "      fill: #174EA6;\n",
              "    }\n",
              "\n",
              "    .colab-df-buttons div {\n",
              "      margin-bottom: 4px;\n",
              "    }\n",
              "\n",
              "    [theme=dark] .colab-df-convert {\n",
              "      background-color: #3B4455;\n",
              "      fill: #D2E3FC;\n",
              "    }\n",
              "\n",
              "    [theme=dark] .colab-df-convert:hover {\n",
              "      background-color: #434B5C;\n",
              "      box-shadow: 0px 1px 3px 1px rgba(0, 0, 0, 0.15);\n",
              "      filter: drop-shadow(0px 1px 2px rgba(0, 0, 0, 0.3));\n",
              "      fill: #FFFFFF;\n",
              "    }\n",
              "  </style>\n",
              "\n",
              "    <script>\n",
              "      const buttonEl =\n",
              "        document.querySelector('#df-7cedf902-0608-41bf-b970-7311f4a00be4 button.colab-df-convert');\n",
              "      buttonEl.style.display =\n",
              "        google.colab.kernel.accessAllowed ? 'block' : 'none';\n",
              "\n",
              "      async function convertToInteractive(key) {\n",
              "        const element = document.querySelector('#df-7cedf902-0608-41bf-b970-7311f4a00be4');\n",
              "        const dataTable =\n",
              "          await google.colab.kernel.invokeFunction('convertToInteractive',\n",
              "                                                    [key], {});\n",
              "        if (!dataTable) return;\n",
              "\n",
              "        const docLinkHtml = 'Like what you see? Visit the ' +\n",
              "          '<a target=\"_blank\" href=https://colab.research.google.com/notebooks/data_table.ipynb>data table notebook</a>'\n",
              "          + ' to learn more about interactive tables.';\n",
              "        element.innerHTML = '';\n",
              "        dataTable['output_type'] = 'display_data';\n",
              "        await google.colab.output.renderOutput(dataTable, element);\n",
              "        const docLink = document.createElement('div');\n",
              "        docLink.innerHTML = docLinkHtml;\n",
              "        element.appendChild(docLink);\n",
              "      }\n",
              "    </script>\n",
              "  </div>\n",
              "\n",
              "\n",
              "<div id=\"df-fb46d6d7-d76c-425f-9a98-8031b27edf2d\">\n",
              "  <button class=\"colab-df-quickchart\" onclick=\"quickchart('df-fb46d6d7-d76c-425f-9a98-8031b27edf2d')\"\n",
              "            title=\"Suggest charts.\"\n",
              "            style=\"display:none;\">\n",
              "\n",
              "<svg xmlns=\"http://www.w3.org/2000/svg\" height=\"24px\"viewBox=\"0 0 24 24\"\n",
              "     width=\"24px\">\n",
              "    <g>\n",
              "        <path d=\"M19 3H5c-1.1 0-2 .9-2 2v14c0 1.1.9 2 2 2h14c1.1 0 2-.9 2-2V5c0-1.1-.9-2-2-2zM9 17H7v-7h2v7zm4 0h-2V7h2v10zm4 0h-2v-4h2v4z\"/>\n",
              "    </g>\n",
              "</svg>\n",
              "  </button>\n",
              "\n",
              "<style>\n",
              "  .colab-df-quickchart {\n",
              "    background-color: #E8F0FE;\n",
              "    border: none;\n",
              "    border-radius: 50%;\n",
              "    cursor: pointer;\n",
              "    display: none;\n",
              "    fill: #1967D2;\n",
              "    height: 32px;\n",
              "    padding: 0 0 0 0;\n",
              "    width: 32px;\n",
              "  }\n",
              "\n",
              "  .colab-df-quickchart:hover {\n",
              "    background-color: #E2EBFA;\n",
              "    box-shadow: 0px 1px 2px rgba(60, 64, 67, 0.3), 0px 1px 3px 1px rgba(60, 64, 67, 0.15);\n",
              "    fill: #174EA6;\n",
              "  }\n",
              "\n",
              "  [theme=dark] .colab-df-quickchart {\n",
              "    background-color: #3B4455;\n",
              "    fill: #D2E3FC;\n",
              "  }\n",
              "\n",
              "  [theme=dark] .colab-df-quickchart:hover {\n",
              "    background-color: #434B5C;\n",
              "    box-shadow: 0px 1px 3px 1px rgba(0, 0, 0, 0.15);\n",
              "    filter: drop-shadow(0px 1px 2px rgba(0, 0, 0, 0.3));\n",
              "    fill: #FFFFFF;\n",
              "  }\n",
              "</style>\n",
              "\n",
              "  <script>\n",
              "    async function quickchart(key) {\n",
              "      const charts = await google.colab.kernel.invokeFunction(\n",
              "          'suggestCharts', [key], {});\n",
              "    }\n",
              "    (() => {\n",
              "      let quickchartButtonEl =\n",
              "        document.querySelector('#df-fb46d6d7-d76c-425f-9a98-8031b27edf2d button');\n",
              "      quickchartButtonEl.style.display =\n",
              "        google.colab.kernel.accessAllowed ? 'block' : 'none';\n",
              "    })();\n",
              "  </script>\n",
              "</div>\n",
              "    </div>\n",
              "  </div>\n"
            ]
          },
          "metadata": {},
          "execution_count": 2
        }
      ]
    },
    {
      "cell_type": "markdown",
      "metadata": {
        "id": "ANwCCixOwvAi"
      },
      "source": [
        "Reading the dataset  `redcross_westafrica_rapidassessment_survey_csv_13.csv` and storing it in a dataframe `rapidassessment`.\n",
        "\n",
        "Printing the number of rows and columns.\n",
        "\n",
        "Printing the first 5 entries in the dataframe."
      ]
    },
    {
      "cell_type": "code",
      "metadata": {
        "id": "r5TITiuFwwRq",
        "colab": {
          "base_uri": "https://localhost:8080/",
          "height": 551
        },
        "outputId": "46416488-c6e5-4338-d702-ffb63f162041"
      },
      "source": [
        "# Reading the dataset  redcross_westafrica_pois_10.csv and storing it in a dataframe rapidassessment\n",
        "rapidassessment = pd.read_csv(\"https://student-datasets-bucket.s3.ap-south-1.amazonaws.com/whitehat-ds-datasets/redcross_westafrica_rapidassessment_survey_csv_13.csv\")\n",
        "\n",
        "# Returning the number of rows and columns\n",
        "rapidassessment.shape\n",
        "\n",
        "# Printing first five rows using head() function\n",
        "rapidassessment.head()"
      ],
      "execution_count": 3,
      "outputs": [
        {
          "output_type": "stream",
          "name": "stderr",
          "text": [
            "<ipython-input-3-45d44fced6b4>:2: DtypeWarning: Columns (143,144,166,167,168,169,170,171,172,173,174,175,176,177,178,179,180,181,182,183,184,185,186,187,188,189,190,191,192,194,195,196,197,198,200,201,202,203) have mixed types. Specify dtype option on import or set low_memory=False.\n",
            "  rapidassessment = pd.read_csv(\"https://student-datasets-bucket.s3.ap-south-1.amazonaws.com/whitehat-ds-datasets/redcross_westafrica_rapidassessment_survey_csv_13.csv\")\n"
          ]
        },
        {
          "output_type": "execute_result",
          "data": {
            "text/plain": [
              "   column_a  x  hh_gps_latitude  hh_gps_longitude      namevill  \\\n",
              "0         1  1         7.212947         -9.097043        KOhoui   \n",
              "1         2  2         7.225922         -9.049043         Nimpa   \n",
              "2         3  3         7.234220         -9.087435         Gonon   \n",
              "3         4  4         7.256432         -9.057573  Soopa centre   \n",
              "4         5  5         7.261577         -9.112533       Yassata   \n",
              "\n",
              "               market marketclean  marketcomsum  \\\n",
              "0      Marché de Sopa       Soopa             0   \n",
              "1     Marché de Soopa       Soopa             0   \n",
              "2      Marché de sopa       Soopa             0   \n",
              "3     Marché de soopa       Soopa             6   \n",
              "4  Marché de Bignamou    Bignamou             0   \n",
              "\n",
              "                                 marketmatch  \\\n",
              "0  uuid:9490fa12-2313-44cd-8aaa-007d845c1062   \n",
              "1  uuid:9490fa12-2313-44cd-8aaa-007d845c1062   \n",
              "2  uuid:9490fa12-2313-44cd-8aaa-007d845c1062   \n",
              "3  uuid:9490fa12-2313-44cd-8aaa-007d845c1062   \n",
              "4  uuid:a9bf5dc1-e397-41bc-8931-00493652ff7b   \n",
              "\n",
              "                                  instanceid  ...    ward  gsm_service  \\\n",
              "0  uuid:853dbd86-4aae-4454-801d-9461bd6883dc  ...  999995       999995   \n",
              "1  uuid:5f4bc8d4-c42c-4eb5-83bc-2c98d17bcee1  ...  999995       999995   \n",
              "2  uuid:e61926dc-9ccb-49f8-a57a-01f4631b7e7d  ...  999995       999995   \n",
              "3  uuid:9490fa12-2313-44cd-8aaa-007d845c1062  ...  999995       999995   \n",
              "4  uuid:8608f7e3-eb90-4e1a-8dec-c9d9e67e80a2  ...  999995       999995   \n",
              "\n",
              "   gsm_distance adm4urb_def  adm4urban_name  adm5urban_name  treathome  \\\n",
              "0        999995      999995          999995          999995     999995   \n",
              "1        999995      999995          999995          999995     999995   \n",
              "2        999995      999995          999995          999995     999995   \n",
              "3        999995      999995          999995          999995     999995   \n",
              "4        999995      999995          999995          999995     999995   \n",
              "\n",
              "   birhome  marketout                  hh_gps_location  \n",
              "0   999995     999995  POINT(-9.097043333 7.212946667)  \n",
              "1   999995     999995  POINT(-9.049043333 7.225921667)  \n",
              "2   999995     999995         POINT(-9.087435 7.23422)  \n",
              "3   999995     999995  POINT(-9.057573333 7.256431667)  \n",
              "4   999995     999995  POINT(-9.112533333 7.261576667)  \n",
              "\n",
              "[5 rows x 208 columns]"
            ],
            "text/html": [
              "\n",
              "  <div id=\"df-2bcb22ae-5f01-4daa-80e2-6e3866acd3ba\" class=\"colab-df-container\">\n",
              "    <div>\n",
              "<style scoped>\n",
              "    .dataframe tbody tr th:only-of-type {\n",
              "        vertical-align: middle;\n",
              "    }\n",
              "\n",
              "    .dataframe tbody tr th {\n",
              "        vertical-align: top;\n",
              "    }\n",
              "\n",
              "    .dataframe thead th {\n",
              "        text-align: right;\n",
              "    }\n",
              "</style>\n",
              "<table border=\"1\" class=\"dataframe\">\n",
              "  <thead>\n",
              "    <tr style=\"text-align: right;\">\n",
              "      <th></th>\n",
              "      <th>column_a</th>\n",
              "      <th>x</th>\n",
              "      <th>hh_gps_latitude</th>\n",
              "      <th>hh_gps_longitude</th>\n",
              "      <th>namevill</th>\n",
              "      <th>market</th>\n",
              "      <th>marketclean</th>\n",
              "      <th>marketcomsum</th>\n",
              "      <th>marketmatch</th>\n",
              "      <th>instanceid</th>\n",
              "      <th>...</th>\n",
              "      <th>ward</th>\n",
              "      <th>gsm_service</th>\n",
              "      <th>gsm_distance</th>\n",
              "      <th>adm4urb_def</th>\n",
              "      <th>adm4urban_name</th>\n",
              "      <th>adm5urban_name</th>\n",
              "      <th>treathome</th>\n",
              "      <th>birhome</th>\n",
              "      <th>marketout</th>\n",
              "      <th>hh_gps_location</th>\n",
              "    </tr>\n",
              "  </thead>\n",
              "  <tbody>\n",
              "    <tr>\n",
              "      <th>0</th>\n",
              "      <td>1</td>\n",
              "      <td>1</td>\n",
              "      <td>7.212947</td>\n",
              "      <td>-9.097043</td>\n",
              "      <td>KOhoui</td>\n",
              "      <td>Marché de Sopa</td>\n",
              "      <td>Soopa</td>\n",
              "      <td>0</td>\n",
              "      <td>uuid:9490fa12-2313-44cd-8aaa-007d845c1062</td>\n",
              "      <td>uuid:853dbd86-4aae-4454-801d-9461bd6883dc</td>\n",
              "      <td>...</td>\n",
              "      <td>999995</td>\n",
              "      <td>999995</td>\n",
              "      <td>999995</td>\n",
              "      <td>999995</td>\n",
              "      <td>999995</td>\n",
              "      <td>999995</td>\n",
              "      <td>999995</td>\n",
              "      <td>999995</td>\n",
              "      <td>999995</td>\n",
              "      <td>POINT(-9.097043333 7.212946667)</td>\n",
              "    </tr>\n",
              "    <tr>\n",
              "      <th>1</th>\n",
              "      <td>2</td>\n",
              "      <td>2</td>\n",
              "      <td>7.225922</td>\n",
              "      <td>-9.049043</td>\n",
              "      <td>Nimpa</td>\n",
              "      <td>Marché de Soopa</td>\n",
              "      <td>Soopa</td>\n",
              "      <td>0</td>\n",
              "      <td>uuid:9490fa12-2313-44cd-8aaa-007d845c1062</td>\n",
              "      <td>uuid:5f4bc8d4-c42c-4eb5-83bc-2c98d17bcee1</td>\n",
              "      <td>...</td>\n",
              "      <td>999995</td>\n",
              "      <td>999995</td>\n",
              "      <td>999995</td>\n",
              "      <td>999995</td>\n",
              "      <td>999995</td>\n",
              "      <td>999995</td>\n",
              "      <td>999995</td>\n",
              "      <td>999995</td>\n",
              "      <td>999995</td>\n",
              "      <td>POINT(-9.049043333 7.225921667)</td>\n",
              "    </tr>\n",
              "    <tr>\n",
              "      <th>2</th>\n",
              "      <td>3</td>\n",
              "      <td>3</td>\n",
              "      <td>7.234220</td>\n",
              "      <td>-9.087435</td>\n",
              "      <td>Gonon</td>\n",
              "      <td>Marché de sopa</td>\n",
              "      <td>Soopa</td>\n",
              "      <td>0</td>\n",
              "      <td>uuid:9490fa12-2313-44cd-8aaa-007d845c1062</td>\n",
              "      <td>uuid:e61926dc-9ccb-49f8-a57a-01f4631b7e7d</td>\n",
              "      <td>...</td>\n",
              "      <td>999995</td>\n",
              "      <td>999995</td>\n",
              "      <td>999995</td>\n",
              "      <td>999995</td>\n",
              "      <td>999995</td>\n",
              "      <td>999995</td>\n",
              "      <td>999995</td>\n",
              "      <td>999995</td>\n",
              "      <td>999995</td>\n",
              "      <td>POINT(-9.087435 7.23422)</td>\n",
              "    </tr>\n",
              "    <tr>\n",
              "      <th>3</th>\n",
              "      <td>4</td>\n",
              "      <td>4</td>\n",
              "      <td>7.256432</td>\n",
              "      <td>-9.057573</td>\n",
              "      <td>Soopa centre</td>\n",
              "      <td>Marché de soopa</td>\n",
              "      <td>Soopa</td>\n",
              "      <td>6</td>\n",
              "      <td>uuid:9490fa12-2313-44cd-8aaa-007d845c1062</td>\n",
              "      <td>uuid:9490fa12-2313-44cd-8aaa-007d845c1062</td>\n",
              "      <td>...</td>\n",
              "      <td>999995</td>\n",
              "      <td>999995</td>\n",
              "      <td>999995</td>\n",
              "      <td>999995</td>\n",
              "      <td>999995</td>\n",
              "      <td>999995</td>\n",
              "      <td>999995</td>\n",
              "      <td>999995</td>\n",
              "      <td>999995</td>\n",
              "      <td>POINT(-9.057573333 7.256431667)</td>\n",
              "    </tr>\n",
              "    <tr>\n",
              "      <th>4</th>\n",
              "      <td>5</td>\n",
              "      <td>5</td>\n",
              "      <td>7.261577</td>\n",
              "      <td>-9.112533</td>\n",
              "      <td>Yassata</td>\n",
              "      <td>Marché de Bignamou</td>\n",
              "      <td>Bignamou</td>\n",
              "      <td>0</td>\n",
              "      <td>uuid:a9bf5dc1-e397-41bc-8931-00493652ff7b</td>\n",
              "      <td>uuid:8608f7e3-eb90-4e1a-8dec-c9d9e67e80a2</td>\n",
              "      <td>...</td>\n",
              "      <td>999995</td>\n",
              "      <td>999995</td>\n",
              "      <td>999995</td>\n",
              "      <td>999995</td>\n",
              "      <td>999995</td>\n",
              "      <td>999995</td>\n",
              "      <td>999995</td>\n",
              "      <td>999995</td>\n",
              "      <td>999995</td>\n",
              "      <td>POINT(-9.112533333 7.261576667)</td>\n",
              "    </tr>\n",
              "  </tbody>\n",
              "</table>\n",
              "<p>5 rows × 208 columns</p>\n",
              "</div>\n",
              "    <div class=\"colab-df-buttons\">\n",
              "\n",
              "  <div class=\"colab-df-container\">\n",
              "    <button class=\"colab-df-convert\" onclick=\"convertToInteractive('df-2bcb22ae-5f01-4daa-80e2-6e3866acd3ba')\"\n",
              "            title=\"Convert this dataframe to an interactive table.\"\n",
              "            style=\"display:none;\">\n",
              "\n",
              "  <svg xmlns=\"http://www.w3.org/2000/svg\" height=\"24px\" viewBox=\"0 -960 960 960\">\n",
              "    <path d=\"M120-120v-720h720v720H120Zm60-500h600v-160H180v160Zm220 220h160v-160H400v160Zm0 220h160v-160H400v160ZM180-400h160v-160H180v160Zm440 0h160v-160H620v160ZM180-180h160v-160H180v160Zm440 0h160v-160H620v160Z\"/>\n",
              "  </svg>\n",
              "    </button>\n",
              "\n",
              "  <style>\n",
              "    .colab-df-container {\n",
              "      display:flex;\n",
              "      gap: 12px;\n",
              "    }\n",
              "\n",
              "    .colab-df-convert {\n",
              "      background-color: #E8F0FE;\n",
              "      border: none;\n",
              "      border-radius: 50%;\n",
              "      cursor: pointer;\n",
              "      display: none;\n",
              "      fill: #1967D2;\n",
              "      height: 32px;\n",
              "      padding: 0 0 0 0;\n",
              "      width: 32px;\n",
              "    }\n",
              "\n",
              "    .colab-df-convert:hover {\n",
              "      background-color: #E2EBFA;\n",
              "      box-shadow: 0px 1px 2px rgba(60, 64, 67, 0.3), 0px 1px 3px 1px rgba(60, 64, 67, 0.15);\n",
              "      fill: #174EA6;\n",
              "    }\n",
              "\n",
              "    .colab-df-buttons div {\n",
              "      margin-bottom: 4px;\n",
              "    }\n",
              "\n",
              "    [theme=dark] .colab-df-convert {\n",
              "      background-color: #3B4455;\n",
              "      fill: #D2E3FC;\n",
              "    }\n",
              "\n",
              "    [theme=dark] .colab-df-convert:hover {\n",
              "      background-color: #434B5C;\n",
              "      box-shadow: 0px 1px 3px 1px rgba(0, 0, 0, 0.15);\n",
              "      filter: drop-shadow(0px 1px 2px rgba(0, 0, 0, 0.3));\n",
              "      fill: #FFFFFF;\n",
              "    }\n",
              "  </style>\n",
              "\n",
              "    <script>\n",
              "      const buttonEl =\n",
              "        document.querySelector('#df-2bcb22ae-5f01-4daa-80e2-6e3866acd3ba button.colab-df-convert');\n",
              "      buttonEl.style.display =\n",
              "        google.colab.kernel.accessAllowed ? 'block' : 'none';\n",
              "\n",
              "      async function convertToInteractive(key) {\n",
              "        const element = document.querySelector('#df-2bcb22ae-5f01-4daa-80e2-6e3866acd3ba');\n",
              "        const dataTable =\n",
              "          await google.colab.kernel.invokeFunction('convertToInteractive',\n",
              "                                                    [key], {});\n",
              "        if (!dataTable) return;\n",
              "\n",
              "        const docLinkHtml = 'Like what you see? Visit the ' +\n",
              "          '<a target=\"_blank\" href=https://colab.research.google.com/notebooks/data_table.ipynb>data table notebook</a>'\n",
              "          + ' to learn more about interactive tables.';\n",
              "        element.innerHTML = '';\n",
              "        dataTable['output_type'] = 'display_data';\n",
              "        await google.colab.output.renderOutput(dataTable, element);\n",
              "        const docLink = document.createElement('div');\n",
              "        docLink.innerHTML = docLinkHtml;\n",
              "        element.appendChild(docLink);\n",
              "      }\n",
              "    </script>\n",
              "  </div>\n",
              "\n",
              "\n",
              "<div id=\"df-c2519fba-cb72-494e-b6b4-f12833f17ea2\">\n",
              "  <button class=\"colab-df-quickchart\" onclick=\"quickchart('df-c2519fba-cb72-494e-b6b4-f12833f17ea2')\"\n",
              "            title=\"Suggest charts.\"\n",
              "            style=\"display:none;\">\n",
              "\n",
              "<svg xmlns=\"http://www.w3.org/2000/svg\" height=\"24px\"viewBox=\"0 0 24 24\"\n",
              "     width=\"24px\">\n",
              "    <g>\n",
              "        <path d=\"M19 3H5c-1.1 0-2 .9-2 2v14c0 1.1.9 2 2 2h14c1.1 0 2-.9 2-2V5c0-1.1-.9-2-2-2zM9 17H7v-7h2v7zm4 0h-2V7h2v10zm4 0h-2v-4h2v4z\"/>\n",
              "    </g>\n",
              "</svg>\n",
              "  </button>\n",
              "\n",
              "<style>\n",
              "  .colab-df-quickchart {\n",
              "    background-color: #E8F0FE;\n",
              "    border: none;\n",
              "    border-radius: 50%;\n",
              "    cursor: pointer;\n",
              "    display: none;\n",
              "    fill: #1967D2;\n",
              "    height: 32px;\n",
              "    padding: 0 0 0 0;\n",
              "    width: 32px;\n",
              "  }\n",
              "\n",
              "  .colab-df-quickchart:hover {\n",
              "    background-color: #E2EBFA;\n",
              "    box-shadow: 0px 1px 2px rgba(60, 64, 67, 0.3), 0px 1px 3px 1px rgba(60, 64, 67, 0.15);\n",
              "    fill: #174EA6;\n",
              "  }\n",
              "\n",
              "  [theme=dark] .colab-df-quickchart {\n",
              "    background-color: #3B4455;\n",
              "    fill: #D2E3FC;\n",
              "  }\n",
              "\n",
              "  [theme=dark] .colab-df-quickchart:hover {\n",
              "    background-color: #434B5C;\n",
              "    box-shadow: 0px 1px 3px 1px rgba(0, 0, 0, 0.15);\n",
              "    filter: drop-shadow(0px 1px 2px rgba(0, 0, 0, 0.3));\n",
              "    fill: #FFFFFF;\n",
              "  }\n",
              "</style>\n",
              "\n",
              "  <script>\n",
              "    async function quickchart(key) {\n",
              "      const charts = await google.colab.kernel.invokeFunction(\n",
              "          'suggestCharts', [key], {});\n",
              "    }\n",
              "    (() => {\n",
              "      let quickchartButtonEl =\n",
              "        document.querySelector('#df-c2519fba-cb72-494e-b6b4-f12833f17ea2 button');\n",
              "      quickchartButtonEl.style.display =\n",
              "        google.colab.kernel.accessAllowed ? 'block' : 'none';\n",
              "    })();\n",
              "  </script>\n",
              "</div>\n",
              "    </div>\n",
              "  </div>\n"
            ]
          },
          "metadata": {},
          "execution_count": 3
        }
      ]
    },
    {
      "cell_type": "markdown",
      "metadata": {
        "id": "uz5MoMpU0Sz9"
      },
      "source": [
        "---"
      ]
    },
    {
      "cell_type": "markdown",
      "metadata": {
        "id": "JFU3if5nngee"
      },
      "source": [
        "#### Activity 2: Availability of beds.\n",
        "\n",
        "Finding the average number of beds available in health facilities and points of interest datasets.\n",
        "\n",
        "**Note:** One of the entries has entry `two` instead of $2$. This may cause problems while computation. So it is necessary to clean the data."
      ]
    },
    {
      "cell_type": "code",
      "metadata": {
        "id": "LYwh43v75sS6",
        "colab": {
          "base_uri": "https://localhost:8080/"
        },
        "outputId": "9e972499-5fc0-44a8-c1d0-5e450e41f3b4"
      },
      "source": [
        "# Performing data cleaning\n",
        "warnings.filterwarnings(\"ignore\")\n",
        "for i in range(len(health_facilities['tags_bed_count'])):\n",
        "  if health_facilities['tags_bed_count'][i]=='two':\n",
        "    print(i)\n",
        "    health_facilities['tags_bed_count'][i]=2\n",
        "\n"
      ],
      "execution_count": 4,
      "outputs": [
        {
          "output_type": "stream",
          "name": "stdout",
          "text": [
            "191\n"
          ]
        }
      ]
    },
    {
      "cell_type": "code",
      "metadata": {
        "id": "dyjePcEWQA2z",
        "colab": {
          "base_uri": "https://localhost:8080/"
        },
        "outputId": "f823f7ff-c83e-4ef2-8429-ad7e6e0631ad"
      },
      "source": [
        "# Finding the average number of beds in redcross health facilities\n",
        "health_facilities_not_null_df = health_facilities[health_facilities['tags_bed_count'].isnull()==False]\n",
        "\n",
        "health_facilities_not_null_df[\"tags_bed_count\"] = health_facilities_not_null_df[\"tags_bed_count\"].astype(int)\n",
        "\n",
        "average_number_of_beds_in_redcross_health_facilities = health_facilities_not_null_df[\"tags_bed_count\"].mean()\n",
        "\n",
        "\n",
        "\n",
        "# printing the result\n",
        "\n",
        "print(round(average_number_of_beds_in_redcross_health_facilities,2))\n"
      ],
      "execution_count": 5,
      "outputs": [
        {
          "output_type": "stream",
          "name": "stdout",
          "text": [
            "6.64\n"
          ]
        }
      ]
    },
    {
      "cell_type": "markdown",
      "metadata": {
        "id": "NinNeHsK_Xxt"
      },
      "source": [
        "**Q:** What is the average  of beds in the Red cross health facility?\n",
        "\n",
        "**A:**\n",
        "The average number of beds in the Redcross health facility is 6.64\n",
        "\n",
        "\n"
      ]
    },
    {
      "cell_type": "markdown",
      "metadata": {
        "id": "PzDvt3kB1Zud"
      },
      "source": [
        "Now, calculating the same for points of interest for the Red cross.\n",
        "\n",
        "**Note:** One of the entries has entry `two` instead of $2$. This may cause problems while computation. So it necessary to clean the data."
      ]
    },
    {
      "cell_type": "code",
      "metadata": {
        "id": "rVCq4Z1m-mH-",
        "colab": {
          "base_uri": "https://localhost:8080/"
        },
        "outputId": "f56f1cb7-5eeb-49cb-9d74-8c8db71e9c01"
      },
      "source": [
        "# Performing data cleaning\n",
        "\n",
        "for i in range(len(point_of_interest['tags_bed_count'])):\n",
        "  if point_of_interest['tags_bed_count'][i]=='two':\n",
        "    print(i)\n",
        "    point_of_interest['tags_bed_count'][i]=2\n",
        "\n"
      ],
      "execution_count": 7,
      "outputs": [
        {
          "output_type": "stream",
          "name": "stdout",
          "text": [
            "1366\n"
          ]
        }
      ]
    },
    {
      "cell_type": "code",
      "metadata": {
        "id": "5DilDRuS-CTu",
        "colab": {
          "base_uri": "https://localhost:8080/"
        },
        "outputId": "5661c7f6-dd51-4649-8111-de5aad7dab14"
      },
      "source": [
        "# Finding average number of beds in redcross point of interest\n",
        "point_of_interest_not_null_df =point_of_interest[point_of_interest['tags_bed_count'].isnull()==False]\n",
        "point_of_interest_not_null_df[\"tags_bed_count\"].isnull().sum()\n",
        "point_of_interest_not_null_df[\"tags_bed_count\"]=point_of_interest_not_null_df[\"tags_bed_count\"].astype(int)\n",
        "average_number_of_beds_in_point_of_interest=point_of_interest_not_null_df[\"tags_bed_count\"].mean()\n",
        "\n",
        "# Printing the results.\n",
        "print(round(average_number_of_beds_in_point_of_interest,2))\n"
      ],
      "execution_count": 8,
      "outputs": [
        {
          "output_type": "stream",
          "name": "stdout",
          "text": [
            "6.72\n"
          ]
        }
      ]
    },
    {
      "cell_type": "markdown",
      "metadata": {
        "id": "1Avh0JM8_r-i"
      },
      "source": [
        "**Q: ** What is the average number of beds in Red cross Point of interest?\n",
        "\n",
        "**A:** The average number of beds in Red cross Point of interest is 6.72\n",
        "\n",
        "**Q:** Is there any significant difference in the number of beds in Red cross health centers and Red cross points of interest?\n",
        "\n",
        "**A:** Yes, the difference between the average number of bed in the Red cross Point of interest and Red cross health centers is 0.08"
      ]
    },
    {
      "cell_type": "markdown",
      "metadata": {
        "id": "qJ67w0TXANMJ"
      },
      "source": [
        "---"
      ]
    },
    {
      "cell_type": "markdown",
      "metadata": {
        "id": "ycvwVbH3AZsz"
      },
      "source": [
        "#### Activity 3: Medical Staff\n",
        "\n",
        "Finding the average number of medical staff(doctors and nurses individually) available in these areas for both health facilities and points of interest.\n",
        "\n",
        "\n",
        "\n"
      ]
    },
    {
      "cell_type": "markdown",
      "metadata": {
        "id": "5tLNwYEb2lbD"
      },
      "source": [
        "**Note:** Few of the entries are wrong. This may cause problems while computation. So we need to clean the data.\n",
        "\n",
        "There are some garbage values in the data. We will take a threshold of $100$ as the maximum number of doctors in the facility."
      ]
    },
    {
      "cell_type": "code",
      "metadata": {
        "id": "VR_TzY8iCeEc",
        "colab": {
          "base_uri": "https://localhost:8080/"
        },
        "outputId": "ffb9131c-4bb5-424e-bd39-93c0318d32f7"
      },
      "source": [
        "# Performing data cleaning\n",
        "\n",
        "for i in range(len(health_facilities['tags_doctors_num'])):\n",
        "  if health_facilities['tags_doctors_num'][i]=='Not Available' or health_facilities['tags_doctors_num'][i]=='Mamadou Bary'or health_facilities['tags_doctors_num'][i]=='guilavogui akoï' or health_facilities['tags_doctors_num'][i]=='Dr Yansane'or health_facilities['tags_doctors_num'][i]=='o' or health_facilities['tags_doctors_num'][i]=='num' or health_facilities['tags_doctors_num'][i]=='nil' or health_facilities['tags_doctors_num'][i]=='no' or health_facilities['tags_doctors_num'][i]=='none' or health_facilities['tags_doctors_num'][i]=='None'or health_facilities['tags_doctors_num'][i]=='Non' or health_facilities['tags_doctors_num'][i]=='non' or health_facilities['tags_doctors_num'][i]=='In charge':\n",
        "    print(i)\n",
        "    health_facilities['tags_doctors_num'][i]=0\n",
        "\n"
      ],
      "execution_count": 9,
      "outputs": [
        {
          "output_type": "stream",
          "name": "stdout",
          "text": [
            "95\n",
            "102\n",
            "103\n",
            "106\n",
            "107\n",
            "108\n",
            "126\n",
            "141\n",
            "144\n",
            "152\n",
            "167\n",
            "169\n",
            "170\n",
            "176\n",
            "177\n",
            "179\n",
            "185\n",
            "188\n",
            "199\n",
            "202\n",
            "222\n",
            "223\n",
            "237\n",
            "290\n",
            "299\n",
            "303\n",
            "331\n",
            "365\n"
          ]
        }
      ]
    },
    {
      "cell_type": "code",
      "metadata": {
        "id": "4IqrzTd9Bz9k",
        "colab": {
          "base_uri": "https://localhost:8080/"
        },
        "outputId": "6d3be4f6-af6e-474e-df70-ce378440b7e7"
      },
      "source": [
        "# Finding the average number of doctors in redcross health facilities\n",
        "number_of_doctors_df = health_facilities[(health_facilities['tags_doctors_num'].isnull()==False)]\n",
        "number_of_doctors_df['tags_doctors_num'] = number_of_doctors_df['tags_doctors_num'].astype(int)\n",
        "# Removing values greater than 100 as some values are too high for the count of doctors\n",
        "number_of_doctors_df=number_of_doctors_df[(number_of_doctors_df['tags_doctors_num']<100)]\n",
        "# Printing the result.\n",
        "average_number_of_doctors_in_redcross_health_facilities = number_of_doctors_df['tags_doctors_num'].mean()\n",
        "\n",
        "print(round(average_number_of_doctors_in_redcross_health_facilities,2))"
      ],
      "execution_count": 10,
      "outputs": [
        {
          "output_type": "stream",
          "name": "stdout",
          "text": [
            "0.79\n"
          ]
        }
      ]
    },
    {
      "cell_type": "markdown",
      "metadata": {
        "id": "s7HDea2q3qoi"
      },
      "source": [
        "Calculating the number of nurses in the Red Cross health facility.\n",
        "\n",
        "**Note:** Few of the entries are wrong. This may cause problems while computation. So we need to clean the data.\n",
        "\n",
        "There are some garbage values in the data. We will take a threshold of $100$ as the maximum number of nurses in the facility."
      ]
    },
    {
      "cell_type": "code",
      "metadata": {
        "id": "WOuK_dN0GCLH",
        "colab": {
          "base_uri": "https://localhost:8080/"
        },
        "outputId": "e1c0f333-6f7e-4c12-9a97-e616bac6a4d8"
      },
      "source": [
        "# Performing data cleaning\n",
        "\n",
        "for i in range(len(health_facilities['tags_nurses_num'])):\n",
        "  if health_facilities['tags_nurses_num'][i]=='Not Available' or health_facilities['tags_nurses_num'][i]== 'Mamadama CAMARA, Fatoumata CAMARA' or health_facilities['tags_nurses_num'][i]=='genaibou Bary' or health_facilities['tags_nurses_num'][i]=='zaki haba' or health_facilities['tags_nurses_num'][i]=='Dr Yansane'or health_facilities['tags_nurses_num'][i]=='o' or health_facilities['tags_nurses_num'][i]=='num' or health_facilities['tags_nurses_num'][i]=='nil' or health_facilities['tags_nurses_num'][i]=='no' or health_facilities['tags_nurses_num'][i]=='none' or health_facilities['tags_nurses_num'][i]=='None'or health_facilities['tags_nurses_num'][i]=='Non' or health_facilities['tags_nurses_num'][i]=='non' or health_facilities['tags_nurses_num'][i]=='In charge':\n",
        "    print(i)\n",
        "    health_facilities['tags_nurses_num'][i]=0\n",
        "\n"
      ],
      "execution_count": 11,
      "outputs": [
        {
          "output_type": "stream",
          "name": "stdout",
          "text": [
            "274\n",
            "299\n",
            "303\n"
          ]
        }
      ]
    },
    {
      "cell_type": "code",
      "metadata": {
        "id": "Q0KS3C6BGpEr",
        "colab": {
          "base_uri": "https://localhost:8080/"
        },
        "outputId": "2a85a36a-6fb8-4a7f-bae0-36fb750d0191"
      },
      "source": [
        "# Finding the average number of nurses in redcross health facilities\n",
        "# Removing null values from the 'tags_nurses_num' column in health_facilities dataframe.\n",
        "nurses_df = health_facilities[health_facilities['tags_nurses_num'].isnull()==False]\n",
        "\n",
        "nurses_df['tags_nurses_num'] = nurses_df['tags_nurses_num'].astype(int)\n",
        "\n",
        "average_number_of_nurses_in_redcross_health_facilities = nurses_df['tags_nurses_num'].mean()\n",
        "\n",
        "\n",
        "\n",
        "\n",
        "# printing results.\n",
        "print(round(average_number_of_nurses_in_redcross_health_facilities,2))\n"
      ],
      "execution_count": 12,
      "outputs": [
        {
          "output_type": "stream",
          "name": "stdout",
          "text": [
            "2.94\n"
          ]
        }
      ]
    },
    {
      "cell_type": "markdown",
      "metadata": {
        "id": "O9QaJgL7XpyF"
      },
      "source": [
        "Calculating the average number of doctors at points of interest.\n",
        "\n",
        "**Note:** Few of the entries are wrong. This may cause problems while computation. So we need to clean the data.\n",
        "\n",
        "There are some garbage values in the data. We will take a threshold of $100$ as the maximum number of doctors in the facility."
      ]
    },
    {
      "cell_type": "code",
      "metadata": {
        "id": "phvG26vYHAbC",
        "colab": {
          "base_uri": "https://localhost:8080/"
        },
        "outputId": "e1379d13-f0b1-41d3-af99-f4963b64cb93"
      },
      "source": [
        "# Performing data cleaning\n",
        "\n",
        "for i in range(len(point_of_interest['tags_doctors_num'])):\n",
        "  if point_of_interest['tags_doctors_num'][i]=='Not Available' or point_of_interest['tags_doctors_num'][i]=='Mamadou Bary'or point_of_interest['tags_doctors_num'][i]=='guilavogui akoï' or point_of_interest['tags_doctors_num'][i]=='Dr Yansane'or point_of_interest['tags_doctors_num'][i]=='o' or point_of_interest['tags_doctors_num'][i]=='num' or point_of_interest['tags_doctors_num'][i]=='nil' or point_of_interest['tags_doctors_num'][i]=='no' or point_of_interest['tags_doctors_num'][i]=='none' or point_of_interest['tags_doctors_num'][i]=='None'or point_of_interest['tags_doctors_num'][i]=='Non' or point_of_interest['tags_doctors_num'][i]=='non' or point_of_interest['tags_doctors_num'][i]=='In charge':\n",
        "    print(i)\n",
        "    point_of_interest['tags_doctors_num'][i]=0\n",
        "\n"
      ],
      "execution_count": 13,
      "outputs": [
        {
          "output_type": "stream",
          "name": "stdout",
          "text": [
            "89\n",
            "1277\n",
            "1278\n",
            "1281\n",
            "1282\n",
            "1283\n",
            "1301\n",
            "1316\n",
            "1319\n",
            "1327\n",
            "1342\n",
            "1344\n",
            "1345\n",
            "1351\n",
            "1352\n",
            "1354\n",
            "1360\n",
            "1363\n",
            "1374\n",
            "1377\n",
            "1397\n",
            "1398\n",
            "1412\n",
            "5049\n",
            "5058\n",
            "5062\n",
            "5090\n",
            "5124\n"
          ]
        }
      ]
    },
    {
      "cell_type": "code",
      "metadata": {
        "id": "HXCNL9uPHJu4",
        "colab": {
          "base_uri": "https://localhost:8080/"
        },
        "outputId": "44ab2179-cc22-4968-f1e3-cabee87b8ae9"
      },
      "source": [
        "# Finding the average number of doctors in redcross point of interest facilities\n",
        "# Removing null values from the 'tags_doctors_num' column in the point_of_interest dataframe\n",
        "number_of_doctors_in_redcross_point_of_interest = point_of_interest[point_of_interest['tags_doctors_num'].isnull()==False]\n",
        "number_of_doctors_in_redcross_point_of_interest['tags_doctors_num'] = number_of_doctors_in_redcross_point_of_interest['tags_doctors_num'].astype(int)\n",
        "# Removing values greater than 100 as some values are too high for the count of doctors\n",
        "number_of_doctors_in_redcross_point_of_interest=number_of_doctors_in_redcross_point_of_interest[number_of_doctors_in_redcross_point_of_interest['tags_doctors_num']<100]\n",
        "average_number_of_doctors_in_redcross_point_of_interest_facilities = number_of_doctors_in_redcross_point_of_interest['tags_doctors_num'].mean()\n",
        "print(round(average_number_of_doctors_in_redcross_point_of_interest_facilities,2))\n"
      ],
      "execution_count": 14,
      "outputs": [
        {
          "output_type": "stream",
          "name": "stdout",
          "text": [
            "0.8\n"
          ]
        }
      ]
    },
    {
      "cell_type": "markdown",
      "metadata": {
        "id": "YFe1zdReYOHU"
      },
      "source": [
        "Calculating the average number of nurses for the point of interest facility of Red cross.\n",
        "\n",
        "**Note:** Few of the entries are wrong. This may cause problems while computation. So we need to clean the data.\n",
        "\n",
        "There are some garbage values in the data. We will take a threshold of $100$ as the maximum number of nurses in the facility."
      ]
    },
    {
      "cell_type": "code",
      "metadata": {
        "id": "QJdFRwTlHzX7",
        "colab": {
          "base_uri": "https://localhost:8080/"
        },
        "outputId": "420a3c9b-0cea-401a-89c9-2559d2fa903d"
      },
      "source": [
        "# Data cleaning\n",
        "\n",
        "for i in range(len(point_of_interest['tags_nurses_num'])):\n",
        "  if point_of_interest['tags_nurses_num'][i]=='Not Available' or point_of_interest['tags_nurses_num'][i]== 'Mamadama CAMARA, Fatoumata CAMARA' or point_of_interest['tags_nurses_num'][i]=='genaibou Bary' or point_of_interest['tags_nurses_num'][i]=='zaki haba' or point_of_interest['tags_nurses_num'][i]=='Dr Yansane'or point_of_interest['tags_nurses_num'][i]=='o' or point_of_interest['tags_nurses_num'][i]=='num' or point_of_interest['tags_nurses_num'][i]=='nil' or point_of_interest['tags_nurses_num'][i]=='no' or point_of_interest['tags_nurses_num'][i]=='none' or point_of_interest['tags_nurses_num'][i]=='None'or point_of_interest['tags_nurses_num'][i]=='Non' or point_of_interest['tags_nurses_num'][i]=='non' or point_of_interest['tags_nurses_num'][i]=='In charge':\n",
        "    print(i)\n",
        "    point_of_interest['tags_nurses_num'][i]=0\n",
        "\n"
      ],
      "execution_count": 15,
      "outputs": [
        {
          "output_type": "stream",
          "name": "stdout",
          "text": [
            "5032\n",
            "5058\n",
            "5062\n"
          ]
        }
      ]
    },
    {
      "cell_type": "code",
      "metadata": {
        "id": "nM9HnCcUH3U5",
        "colab": {
          "base_uri": "https://localhost:8080/"
        },
        "outputId": "e5a0aafd-180a-447a-f6b9-166bfb6c724d"
      },
      "source": [
        "# Finding the average number of nurses in redcross point of interest\n",
        "# Removing null values from the \"tags_nurses_num\" in the point_of_interest\n",
        "number_of_nurses_in_point_of_interest_df = point_of_interest[point_of_interest['tags_nurses_num'].isnull()==False]\n",
        "number_of_nurses_in_point_of_interest_df['tags_nurses_num'] = number_of_nurses_in_point_of_interest_df['tags_nurses_num'].astype(int)\n",
        "# Removing values greater than 100 as some values are too high for the count of nurses\n",
        "average_number_of_nurses_in_point_of_interest = number_of_nurses_in_point_of_interest_df['tags_nurses_num'].mean()\n",
        "print(round(average_number_of_nurses_in_point_of_interest,2))\n",
        "\n",
        "\n"
      ],
      "execution_count": 16,
      "outputs": [
        {
          "output_type": "stream",
          "name": "stdout",
          "text": [
            "2.96\n"
          ]
        }
      ]
    },
    {
      "cell_type": "markdown",
      "metadata": {
        "id": "wXJz5O-EJ1ei"
      },
      "source": [
        "**Q:** What is the average number of doctors present in the Red cross health facility?\n",
        "\n",
        "**A:** The average number of doctors present in the Red cross health facility is 0.79\n",
        "\n",
        "**Q:** What is the average number of nurses present in the Red cross health facility?\n",
        "\n",
        "**A:** The average number of nurses present in the Red cross health facility 2.94\n",
        "\n",
        "**Q:** What is the average number of doctors present in the Red Cross point of interest health facility?\n",
        "\n",
        "**A:** The average number of doctors present in the Red Cross point of interest health facility 0.8\n",
        "\n",
        "**Q:** What is the average number of nurses present in the Red Cross point of interest facility?\n",
        "\n",
        "**A:** The average number of nurses present in the Red Cross point of interest facility 2.96"
      ]
    },
    {
      "cell_type": "markdown",
      "metadata": {
        "id": "nF3XSTZbAOAK"
      },
      "source": [
        "---"
      ]
    },
    {
      "cell_type": "markdown",
      "metadata": {
        "id": "BjdoHMU0OtXB"
      },
      "source": [
        "#### Activity 4: Electricity, Operator and Water source\n",
        "\n",
        "Plotting the graph of electricity, operator, and water source for health facilities and points of interest datasets."
      ]
    },
    {
      "cell_type": "markdown",
      "metadata": {
        "id": "eA96bEkZYqx7"
      },
      "source": [
        "Graph for health facility electricity:"
      ]
    },
    {
      "cell_type": "code",
      "metadata": {
        "id": "5lzRFvhEHRbp",
        "colab": {
          "base_uri": "https://localhost:8080/",
          "height": 419
        },
        "outputId": "d3efa4d8-38eb-4270-a493-ac6a170ee959"
      },
      "source": [
        "# Removing null values from the 'tags_electricity' column in the health_facilities dataframe.\n",
        "health_facilities_electricity_df=health_facilities[health_facilities['tags_electricity'].isnull()==False]\n",
        "# Plotting of water sources for health facilities\n",
        "plt.figure(figsize=(20,6))\n",
        "sns.countplot(x=health_facilities_electricity_df['tags_electricity'])\n",
        "plt.show()"
      ],
      "execution_count": 17,
      "outputs": [
        {
          "output_type": "display_data",
          "data": {
            "text/plain": [
              "<Figure size 2000x600 with 1 Axes>"
            ],
            "image/png": "[encoded data removed]"
          },
          "metadata": {}
        }
      ]
    },
    {
      "cell_type": "markdown",
      "metadata": {
        "id": "G3tKfxebY2cH"
      },
      "source": [
        "**Q:** What is the primary source of power at health facilities by Red cross?\n",
        "\n",
        "**A:** The primary source of power at health facilities by Red cross is solar\n",
        "\n"
      ]
    },
    {
      "cell_type": "markdown",
      "metadata": {
        "id": "oU7N8SfFZO6J"
      },
      "source": [
        "Graph for operator of health facility:"
      ]
    },
    {
      "cell_type": "code",
      "metadata": {
        "id": "rpncz7oSTA3o",
        "colab": {
          "base_uri": "https://localhost:8080/",
          "height": 419
        },
        "outputId": "a88fcd76-b92a-401f-993b-0f296927314d"
      },
      "source": [
        "# Removing null values from the \"tags_operator\" column in the health_facilities dataframe.\n",
        "health_facilities_operator_df=health_facilities[health_facilities[\"tags_operator\"].isnull()==False]\n",
        "\n",
        "\n",
        "# Plot of operator sources for health facilities\n",
        "plt.figure(figsize=(20,6))\n",
        "sns.countplot(x=health_facilities_operator_df[\"tags_operator\"])\n",
        "plt.show()"
      ],
      "execution_count": 18,
      "outputs": [
        {
          "output_type": "display_data",
          "data": {
            "text/plain": [
              "<Figure size 2000x600 with 1 Axes>"
            ],
            "image/png": "[encoded data removed]"
          },
          "metadata": {}
        }
      ]
    },
    {
      "cell_type": "markdown",
      "metadata": {
        "id": "CZ6xnnZBZYHS"
      },
      "source": [
        "**Q:** Who operated majority of health facilities?\n",
        "\n",
        "**A:** Government operated majority of health facilities"
      ]
    },
    {
      "cell_type": "markdown",
      "metadata": {
        "id": "DN3_1bq8ZiFQ"
      },
      "source": [
        "Graph for water source at health facilities of Red cross.:"
      ]
    },
    {
      "cell_type": "code",
      "metadata": {
        "id": "XwIsDBtpHReU",
        "colab": {
          "base_uri": "https://localhost:8080/",
          "height": 397
        },
        "outputId": "12269714-5994-448f-e25c-d33e30cb61a6"
      },
      "source": [
        "# Removing null values from the 'tags_water_source' column in the health_facilities dataframe.\n",
        "health_facilities_water_source_df=health_facilities[health_facilities[\"tags_water_source\"].isnull()==False]\n",
        "# Plot of water sources for health facilities\n",
        "plt.figure(figsize=(20,6))\n",
        "sns.countplot(x=health_facilities_water_source_df[\"tags_water_source\"])\n",
        "plt.show()\n"
      ],
      "execution_count": 19,
      "outputs": [
        {
          "output_type": "display_data",
          "data": {
            "text/plain": [
              "<Figure size 2000x600 with 1 Axes>"
            ],
            "image/png": "[encoded data removed]"
          },
          "metadata": {}
        }
      ]
    },
    {
      "cell_type": "markdown",
      "metadata": {
        "id": "18eRb_BwZyd0"
      },
      "source": [
        "**Q:** Name $3$ major source of water at health facilities of red cross?\n",
        "\n",
        "**A:** Public tap, protected well and pipes are the major sources of water at health facilities of red cross"
      ]
    },
    {
      "cell_type": "markdown",
      "metadata": {
        "id": "hY6yOx3LaCxh"
      },
      "source": [
        "Graph for electricity at point of interest of red cross:"
      ]
    },
    {
      "cell_type": "code",
      "metadata": {
        "id": "cSNvbPkeHRhA",
        "colab": {
          "base_uri": "https://localhost:8080/",
          "height": 419
        },
        "outputId": "46572052-211f-4bb4-dccf-9309d22f717f"
      },
      "source": [
        "# Removing null values from the 'tags_electricity' column in the point_of_interest dataframe.\n",
        "point_of_interest_electricity_df = point_of_interest[point_of_interest['tags_electricity'].isnull()==False]\n",
        "# Graph for electricity at point of interest of red cross\n",
        "plt.figure(figsize=(20,6))\n",
        "sns.countplot(x = point_of_interest_electricity_df['tags_electricity'])\n",
        "plt.show()"
      ],
      "execution_count": 20,
      "outputs": [
        {
          "output_type": "display_data",
          "data": {
            "text/plain": [
              "<Figure size 2000x600 with 1 Axes>"
            ],
            "image/png": "[encoded data removed]"
          },
          "metadata": {}
        }
      ]
    },
    {
      "cell_type": "markdown",
      "metadata": {
        "id": "nLPEBuE0aT_k"
      },
      "source": [
        "**Q:** Two major source of electricity at point of interest?\n",
        "\n",
        "**A:** The two major sources of electricity at the point of interest are solar and generator"
      ]
    },
    {
      "cell_type": "markdown",
      "metadata": {
        "id": "vv6_tzAMafF2"
      },
      "source": [
        "Graph for operator at point of interest of Red cross:"
      ]
    },
    {
      "cell_type": "code",
      "metadata": {
        "id": "0TzUZUheHRjt",
        "colab": {
          "base_uri": "https://localhost:8080/",
          "height": 359
        },
        "outputId": "7d9eb062-5926-4114-c3a1-dd0ca9435dab"
      },
      "source": [
        "# Removing null values from the 'tags_operator' column in the point_of_interest dataframe.\n",
        "point_of_interest_operator_df = point_of_interest[point_of_interest['tags_operator'].isnull()==False]\n",
        "# Graph for electricity at point of interest of red cross\n",
        "plt.figure(figsize=(20,5))\n",
        "sns.countplot(x = point_of_interest_operator_df['tags_operator'].head())\n",
        "plt.show()"
      ],
      "execution_count": 21,
      "outputs": [
        {
          "output_type": "display_data",
          "data": {
            "text/plain": [
              "<Figure size 2000x500 with 1 Axes>"
            ],
            "image/png": "[encoded data removed]"
          },
          "metadata": {}
        }
      ]
    },
    {
      "cell_type": "markdown",
      "metadata": {
        "id": "fxyd5JmLaxwZ"
      },
      "source": [
        "**Q:** Are majority of operators private ?\n",
        "\n",
        "**A:** No, there are equal number of government operators and private operators"
      ]
    },
    {
      "cell_type": "markdown",
      "metadata": {
        "id": "LfgTGwwWcQ_4"
      },
      "source": [
        "Graph for water source at point of interest of Red cross."
      ]
    },
    {
      "cell_type": "code",
      "metadata": {
        "id": "d-28QXXDHRmc",
        "colab": {
          "base_uri": "https://localhost:8080/",
          "height": 341
        },
        "outputId": "64877ba9-0fd2-43ea-fc46-329c7427d74a"
      },
      "source": [
        "# Removing null values from the 'tags_water_source' column in the point_of_interest dataframe.\n",
        "point_of_interest_water_source_df = point_of_interest[point_of_interest['tags_water_source'].isnull()==False]\n",
        "# Graph for water source at point of interest of red cross\n",
        "plt.figure(figsize=(20,5))\n",
        "sns.countplot(x = point_of_interest['tags_water_source'])\n",
        "plt.show()"
      ],
      "execution_count": 22,
      "outputs": [
        {
          "output_type": "display_data",
          "data": {
            "text/plain": [
              "<Figure size 2000x500 with 1 Axes>"
            ],
            "image/png": "[encoded data removed]"
          },
          "metadata": {}
        }
      ]
    },
    {
      "cell_type": "markdown",
      "metadata": {
        "id": "3Cbra8tXXsfG"
      },
      "source": [
        "---"
      ]
    },
    {
      "cell_type": "markdown",
      "metadata": {
        "id": "9N-e1-tAXtrN"
      },
      "source": [
        "#### Activity 5: Availability\n",
        "\n",
        "Finding the number of health facilities and point of interest facilities open 24/7?"
      ]
    },
    {
      "cell_type": "code",
      "metadata": {
        "id": "fr7TtSzxHRrs",
        "colab": {
          "base_uri": "https://localhost:8080/"
        },
        "outputId": "31926764-3cd0-4b5d-b92e-920eec63f6a5"
      },
      "source": [
        "# health facilities known to be open 24/7\n",
        "health_facilities[health_facilities[\"tags_opening_hours\"]==\"24/7\"].shape[0]\n"
      ],
      "execution_count": 23,
      "outputs": [
        {
          "output_type": "execute_result",
          "data": {
            "text/plain": [
              "91"
            ]
          },
          "metadata": {},
          "execution_count": 23
        }
      ]
    },
    {
      "cell_type": "code",
      "metadata": {
        "id": "rQ8L5ZzjiQUP",
        "colab": {
          "base_uri": "https://localhost:8080/"
        },
        "outputId": "15924243-bb94-42a5-e23c-f89cb879f260"
      },
      "source": [
        "# point of interest centers known to be open 24/7\n",
        "point_of_interest[point_of_interest[\"tags_opening_hours\"]==\"24/7\"].shape[0]"
      ],
      "execution_count": 24,
      "outputs": [
        {
          "output_type": "execute_result",
          "data": {
            "text/plain": [
              "134"
            ]
          },
          "metadata": {},
          "execution_count": 24
        }
      ]
    },
    {
      "cell_type": "markdown",
      "metadata": {
        "id": "XoI6czIpne7C"
      },
      "source": [
        "**Q:** Which type of facility have more rate of being open 24/7 ?\n",
        "\n",
        "**A:** Point of interest facilities have more rate of being open 24/7"
      ]
    },
    {
      "cell_type": "markdown",
      "metadata": {
        "id": "SOCN_l_Di5li"
      },
      "source": [
        "---"
      ]
    },
    {
      "cell_type": "markdown",
      "metadata": {
        "id": "rRTErAJsi6V1"
      },
      "source": [
        "#### Activity 6: Water and sanitation.\n",
        "\n",
        "What is the average score is given to drinking water, water timing, and toilet in centers where the survey is done.\n",
        "\n",
        "A score is given out of 100 for the same. There are some garbage values. Hence, we only need to consider entry if it has a score $0-100$."
      ]
    },
    {
      "cell_type": "code",
      "metadata": {
        "id": "LVrB0VSiq6LI",
        "colab": {
          "base_uri": "https://localhost:8080/"
        },
        "outputId": "97cddd7c-39bc-4bf2-b7df-4d2c4284c07a"
      },
      "source": [
        "# Calculating the average score\n",
        "# Removing garbage values in the \"drink_wat\" column of the rapidassessment_drinking_water_df\n",
        "rapidassessment_water_df = rapidassessment[(rapidassessment[\"drink_wat\"]>=0)&(rapidassessment[\"drink_wat\"]<=100)]\n",
        "average_score_given_to_drinking_water = rapidassessment_water_df[\"drink_wat\"].mean()\n",
        "\n",
        "# printing the average\n",
        "print(round(average_score_given_to_drinking_water,2))\n"
      ],
      "execution_count": 25,
      "outputs": [
        {
          "output_type": "stream",
          "name": "stdout",
          "text": [
            "9.85\n"
          ]
        }
      ]
    },
    {
      "cell_type": "markdown",
      "metadata": {
        "id": "CRrvIItRf-CM"
      },
      "source": [
        "Calculating average facility for water timing at area of survey:"
      ]
    },
    {
      "cell_type": "code",
      "metadata": {
        "id": "kP3o4e6ssLa_",
        "colab": {
          "base_uri": "https://localhost:8080/"
        },
        "outputId": "912aaf59-245f-4d4f-cfa1-b1791382282b"
      },
      "source": [
        "# Calculating average score\n",
        "# Removing garbage values in the \"water_time\" column of the rapidassessment_water_time_df\n",
        "rapidassessment[\"water_time\"] = rapidassessment[\"water_time\"][rapidassessment[\"water_time\"]<1000]\n",
        "average_facility_for_water_timing_at_area_of_survey = rapidassessment[\"water_time\"].mean()\n",
        "\n",
        "# printing the average\n",
        "print(round(average_facility_for_water_timing_at_area_of_survey,2))\n"
      ],
      "execution_count": 26,
      "outputs": [
        {
          "output_type": "stream",
          "name": "stdout",
          "text": [
            "29.76\n"
          ]
        }
      ]
    },
    {
      "cell_type": "markdown",
      "metadata": {
        "id": "LdT_76i3gndH"
      },
      "source": [
        "Calculating the average score for toilet at area of survey."
      ]
    },
    {
      "cell_type": "code",
      "metadata": {
        "id": "KcQQeqFEsMdb",
        "colab": {
          "base_uri": "https://localhost:8080/"
        },
        "outputId": "6d3820f2-ffee-4311-8385-dee961ff1153"
      },
      "source": [
        "# Calculating average score\n",
        "# Removing garbage values in the \"toilet\" column of the rapidassessment_toilet_df\n",
        "rapidassessment[\"toilet\"] = rapidassessment[\"toilet\"][rapidassessment[\"toilet\"]<1000]\n",
        "the_average_score_for_toilet_at_area_of_survey = rapidassessment[\"toilet\"].mean()\n",
        "\n",
        "# printing the average\n",
        "print(round(the_average_score_for_toilet_at_area_of_survey,2))\n"
      ],
      "execution_count": 27,
      "outputs": [
        {
          "output_type": "stream",
          "name": "stdout",
          "text": [
            "8.15\n"
          ]
        }
      ]
    },
    {
      "cell_type": "markdown",
      "metadata": {
        "id": "7davSEGMg4OC"
      },
      "source": [
        "**Q:** On which parameter the score is maximum ?\n",
        "\n",
        "**A:** The score is maximum for water timing"
      ]
    },
    {
      "cell_type": "markdown",
      "metadata": {
        "id": "429jgfEruick"
      },
      "source": [
        "---"
      ]
    },
    {
      "cell_type": "markdown",
      "metadata": {
        "id": "jdLWjnH-wOiH"
      },
      "source": [
        "### Conclusions:\n",
        "\n",
        "\n"
      ]
    },
    {
      "cell_type": "markdown",
      "metadata": {
        "id": "4He0VVNlwWNX"
      },
      "source": [
        "---"
      ]
    },
    {
      "cell_type": "markdown",
      "metadata": {
        "id": "KrGt8lG3Tine"
      },
      "source": [
        "\n",
        "\n",
        "*   There are more number of beds available in the Redcross point of interest than the red cross health facility centers\n",
        "*   There are more number of doctors available in the Red cross point of interest than the Red cross health facility centres\n",
        "*   There are more number of nurses available in the Red cross point of interest than the Red cross health facility centers\n",
        "*   In the Red cross health facility centers, the primary source of electricity is solar, majority of the health centers are operated by the government and a major source of water are the public taps.\n",
        "*   In the Red cross point of interest, the primary source of electricity is solar, there are equal number of government and private operators and a major source of water are the public taps\n",
        "*   The Red cross point of interest have more rate of being open 24/7\n",
        "*   The water facility is found to have the highest score\n",
        "# **FINAL CONCLUSION:**\n",
        "From the survey, The redcross point of interest centers are found to be better in terms of bed count, medical staff, resources and availability\n",
        "\n",
        "\n",
        "\n",
        "\n",
        "\n",
        "\n",
        "\n",
        "\n",
        "\n",
        "\n",
        "\n",
        "\n"
      ]
    },
    {
      "cell_type": "markdown",
      "metadata": {
        "id": "C2CXmqsETgn4"
      },
      "source": []
    },
    {
      "cell_type": "markdown",
      "metadata": {
        "id": "Lu2512nlwUPV"
      },
      "source": [
        "### Recommendations:\n",
        "\n"
      ]
    },
    {
      "cell_type": "markdown",
      "metadata": {
        "id": "M-Q5TKpYX58C"
      },
      "source": [
        "From the above analysis, the facilities in the Red cross health care centres show lesser score. So, these facilities need to be improved in order to provide better health care. The facilities in point of interest need to be utilised as main facilities as the number of medical staff, resources and availability in the Red cross health centers do not seem sufficient\n",
        "In addition to this, the following areas need to be focussed in order to strengthen health care systems across the globe\n",
        "*   Community health\n",
        "*   Quality of care\n",
        "*   Strengthening district-level health systems\n",
        "*   Strengthening supply chains\n",
        "*   Data and digital health\n",
        "*   National investment and governance\n",
        "\n",
        "\n",
        "\n",
        "\n",
        "\n"
      ]
    },
    {
      "cell_type": "markdown",
      "metadata": {
        "id": "1jBjFIkzwXVw"
      },
      "source": [
        "---"
      ]
    }
  ]
}