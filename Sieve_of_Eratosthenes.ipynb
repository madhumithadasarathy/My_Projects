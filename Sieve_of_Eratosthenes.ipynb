{
  "nbformat": 4,
  "nbformat_minor": 0,
  "metadata": {
    "colab": {
      "provenance": [],
      "include_colab_link": true
    },
    "kernelspec": {
      "name": "python3",
      "display_name": "Python 3"
    }
  },
  "cells": [
    {
      "cell_type": "markdown",
      "metadata": {
        "id": "view-in-github",
        "colab_type": "text"
      },
      "source": [
        "<a href=\"https://colab.research.google.com/github/madhumithadasarathy/My_Projects/blob/main/Sieve_of_Eratosthenes.ipynb\" target=\"_parent\"><img src=\"https://colab.research.google.com/assets/colab-badge.svg\" alt=\"Open In Colab\"/></a>"
      ]
    },
    {
      "cell_type": "markdown",
      "metadata": {
        "id": "YFHBYanhv5gD"
      },
      "source": [
        "# Sieve Of Eratosthenes"
      ]
    },
    {
      "cell_type": "markdown",
      "metadata": {
        "id": "9bN7RwLrzCI1"
      },
      "source": [
        "### Overview\n",
        "\n",
        "In this project, the Sieve of Eratosthenes algorithm is implemented in Python. This algorithm extracts only the prime numbers from a list of given natural numbers.\n",
        "\n",
        "A prime number is a number which is divisible either by itself or by 1 and not divisible by any other number.\n",
        "\n",
        "\n",
        "\n",
        "\n",
        "\n",
        "\n"
      ]
    },
    {
      "cell_type": "markdown",
      "metadata": {
        "id": "v1H7kw_lmlfM"
      },
      "source": [
        "---"
      ]
    },
    {
      "cell_type": "markdown",
      "metadata": {
        "id": "7sllyTOummRd"
      },
      "source": [
        "### The Real-World Significance Of Prime Numbers\n",
        "\n",
        "Searching for prime numbers is an essential task for computers, because the availability of larger and larger primes makes worldwide software systems secure. The prime numbers are used in cryptography which allows two individuals or two computers to exchange information without worrying about someone eavesdropping.\n",
        "\n",
        "Searching for primes in record time is also a benchmark for computers, which allows us to rank computers in terms of performance (although there are much better tests to evaluate the performance of a computer). The quicker a computer finds a prime number, the better is its performance.\n"
      ]
    },
    {
      "cell_type": "markdown",
      "metadata": {
        "id": "kUjp5R-ZENQd"
      },
      "source": [
        "---"
      ]
    },
    {
      "cell_type": "markdown",
      "metadata": {
        "id": "ntPNnyq6EMJk"
      },
      "source": [
        "### The **Sieve of Eratosthenes** Algorithm\n",
        "\n",
        "The Sieve of Eratosthenes is an algorithm which allows us to extract prime numbers (or primes) from a given list of natural numbers.\n",
        "\n",
        "*An algorithm is a well-defined and well-structured set of instructions to perform a specific task*.\n",
        "\n",
        "The Sieve of Eratosthenes algorithm finds primes up to a number, say 50, by eliminating every multiple of a prime number (starting from 2).\n",
        "\n",
        "<img src='https://drive.google.com/uc?id=1EGqif9JT_4JExYaLUUTQA1QLZ6UpREUy' width=300>\n",
        "\n",
        "It also assumes that every number between 2 and 50 is a prime number (even though they are actually not prime). Hence, all the multiples of a number (except the number itself) must be discarded from the list.\n",
        "\n",
        "For e.g., in a list containing the natural numbers between 2 and 50, assume that\n",
        "\n",
        "- 2 is a prime number so all of its multiples (except 2), i.e., 4, 6, 8... must be discarded\n",
        "\n",
        "  <img src='https://drive.google.com/uc?id=1ZvPfhK0AhdFK6zF_frQ-YYsRfb_-doRe' width=300>\n",
        "\n",
        "- 3 is a prime number so all of its multiples (except 3), i.e., 3, 6, 9... must be discarded\n",
        "\n",
        "  <img src='https://drive.google.com/uc?id=1POSGQ8kf145SoGcAHqwcGFhscuzcOl1J' width=300>\n",
        "\n",
        "\n",
        "- 4 is a prime number so all of its multiples (except 4), i.e., 8, 12, 16... must be discarded. Since every multiple of 4 is also a multiple of 2 so, they already got discarded in the first step.\n",
        "\n",
        "  <img src='https://drive.google.com/uc?id=1POSGQ8kf145SoGcAHqwcGFhscuzcOl1J' width=300>\n",
        "\n",
        "- 5 is a prime number so all of its multiples (except 5), i.e., 5, 10, 15... must be discarded.\n",
        "\n",
        "  <img src='https://drive.google.com/uc?id=1GC9gaFj32sC-xAw1wKiFb7qWJ6er35xS' width=300>\n",
        "\n",
        "This process is continued until all the **actual non-prime numbers** are discarded from the list."
      ]
    },
    {
      "cell_type": "markdown",
      "metadata": {
        "id": "bbapytDvEJT7"
      },
      "source": [
        "---"
      ]
    },
    {
      "cell_type": "code",
      "source": [
        "#Implementing Sieve of Eratosthenes\n",
        "def prime_eratosthenes(n):\n",
        "  prime_list = []\n",
        "  for i in range(2,n+1):\n",
        "    if i not in prime_list:\n",
        "      print(i)\n",
        "      for j in range(i*i,n+1,i):\n",
        "        prime_list.append(j)\n",
        "n = int(input(\"Enter the number till which you want to generate prime numbers:\\n\"))\n",
        "prime_eratosthenes(n)"
      ],
      "metadata": {
        "colab": {
          "base_uri": "https://localhost:8080/"
        },
        "id": "QSCeYZFVRVIu",
        "outputId": "68056c22-19b1-4e97-f9f4-02774af47068"
      },
      "execution_count": 7,
      "outputs": [
        {
          "output_type": "stream",
          "name": "stdout",
          "text": [
            "Enter the number till which you want to generate prime numbers:\n",
            "50\n",
            "2\n",
            "3\n",
            "5\n",
            "7\n",
            "11\n",
            "13\n",
            "17\n",
            "19\n",
            "23\n",
            "29\n",
            "31\n",
            "37\n",
            "41\n",
            "43\n",
            "47\n"
          ]
        }
      ]
    }
  ]
}