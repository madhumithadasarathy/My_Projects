{
  "nbformat": 4,
  "nbformat_minor": 0,
  "metadata": {
    "colab": {
      "provenance": [],
      "authorship_tag": "ABX9TyN+ywWUcb7qiib8gI8xUGyc",
      "include_colab_link": true
    },
    "kernelspec": {
      "name": "python3",
      "display_name": "Python 3"
    },
    "language_info": {
      "name": "python"
    }
  },
  "cells": [
    {
      "cell_type": "markdown",
      "metadata": {
        "id": "view-in-github",
        "colab_type": "text"
      },
      "source": [
        "<a href=\"https://colab.research.google.com/github/madhumithadasarathy/My_Projects/blob/main/Convulation_Operation.ipynb\" target=\"_parent\"><img src=\"https://colab.research.google.com/assets/colab-badge.svg\" alt=\"Open In Colab\"/></a>"
      ]
    },
    {
      "cell_type": "markdown",
      "metadata": {
        "id": "E4niJuIsaAti"
      },
      "source": [
        "# **Imports:**"
      ]
    },
    {
      "cell_type": "code",
      "metadata": {
        "id": "ipCNHWYcZ0ml"
      },
      "source": [
        "import cv2\n",
        "import numpy as np"
      ],
      "execution_count": null,
      "outputs": []
    },
    {
      "cell_type": "markdown",
      "metadata": {
        "id": "-3XlEJGzaNQv"
      },
      "source": [
        "*   OpenCV will be used to pre-process the image.\n",
        "*   NumPy will be used to implement the actual convolution.\n",
        "\n"
      ]
    },
    {
      "cell_type": "markdown",
      "metadata": {
        "id": "nY-91quQaf8O"
      },
      "source": [
        "# **Pre-Process Image:**\n",
        "In order to get the best results with a 2D convulation, it is generally recommended that you process the image in grayscale."
      ]
    },
    {
      "cell_type": "code",
      "metadata": {
        "id": "X6aHz__Xa1OI"
      },
      "source": [
        "def processImage(image):\n",
        "  image = cv2.imread(image)\n",
        "  image = cv2.cvtColor(src=image, code=cv2.COLOR_BGR2GRAY)\n",
        "  return image"
      ],
      "execution_count": null,
      "outputs": []
    },
    {
      "cell_type": "markdown",
      "metadata": {
        "id": "BfRZaauQcCEO"
      },
      "source": [
        "When reading images with OpenCV, the default mode is BGR and not RGB, so we will want to specify the code parameter as BGR2GRAY, allowing us to turn the BGR image into a grayscaled image. We will then return the new image."
      ]
    },
    {
      "cell_type": "markdown",
      "metadata": {
        "id": "6DFZHweAcT8x"
      },
      "source": [
        "# **2D Convulation:**\n",
        "The full convulation looks like this."
      ]
    },
    {
      "cell_type": "code",
      "metadata": {
        "id": "x8OoimJDb8T6"
      },
      "source": [
        "def convolve2D(image, kernel, padding=0, strides=1):\n",
        "    # Cross Correlation\n",
        "    kernel = np.flipud(np.fliplr(kernel))\n",
        "\n",
        "    # Gather Shapes of Kernel + Image + Padding\n",
        "    xKernShape = kernel.shape[0]\n",
        "    yKernShape = kernel.shape[1]\n",
        "    xImgShape = image.shape[0]\n",
        "    yImgShape = image.shape[1]\n",
        "\n",
        "    # Shape of Output Convolution\n",
        "    xOutput = int(((xImgShape - xKernShape + 2 * padding) / strides) + 1)\n",
        "    yOutput = int(((yImgShape - yKernShape + 2 * padding) / strides) + 1)\n",
        "    output = np.zeros((xOutput, yOutput))\n",
        "\n",
        "    # Apply Equal Padding to All Sides\n",
        "    if padding != 0:\n",
        "        imagePadded = np.zeros((image.shape[0] + padding*2, image.shape[1] + padding*2))\n",
        "        imagePadded[int(padding):int(-1 * padding), int(padding):int(-1 * padding)] = image\n",
        "        print(imagePadded)\n",
        "    else:\n",
        "        imagePadded = image\n",
        "\n",
        "    # Iterate through image\n",
        "    for y in range(image.shape[1]):\n",
        "        # Exit Convolution\n",
        "        if y > image.shape[1] - yKernShape:\n",
        "            break\n",
        "        # Only Convolve if y has gone down by the specified Strides\n",
        "        if y % strides == 0:\n",
        "            for x in range(image.shape[0]):\n",
        "                # Go to next row once kernel is out of bounds\n",
        "                if x > image.shape[0] - xKernShape:\n",
        "                    break\n",
        "                try:\n",
        "                    # Only Convolve if x has moved by the specified Strides\n",
        "                    if x % strides == 0:\n",
        "                        output[x, y] = (kernel * imagePadded[x: x + xKernShape, y: y + yKernShape]).sum()\n",
        "                except:\n",
        "                    break\n",
        "\n",
        "    return output"
      ],
      "execution_count": null,
      "outputs": []
    },
    {
      "cell_type": "markdown",
      "metadata": {
        "id": "1LzJLmsLcrpf"
      },
      "source": [
        "# **Testing the 2D Convolution:**"
      ]
    },
    {
      "cell_type": "code",
      "metadata": {
        "id": "ONKDHuSXct8O"
      },
      "source": [
        "if __name__ == '__main__':\n",
        "    # Grayscale Image\n",
        "    image = processImage('/content/basketball.jpg')\n",
        "\n",
        "    # Edge Detection Kernel\n",
        "    kernel = np.array([[-1, -1, -1], [-1, 8, -1], [-1, -1, -1]])\n",
        "\n",
        "    # Convolve and Save Output\n",
        "    output = convolve2D(image, kernel, padding=2)\n",
        "    cv2.imwrite('2DConvolved.jpg', output)"
      ],
      "execution_count": null,
      "outputs": []
    },
    {
      "cell_type": "code",
      "metadata": {
        "id": "_9Qis6AGKLdk"
      },
      "source": [
        "import matplotlib.pyplot as plt\n",
        "plt.imshow(output)"
      ],
      "execution_count": null,
      "outputs": []
    }
  ]
}