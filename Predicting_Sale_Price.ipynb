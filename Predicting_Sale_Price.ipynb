{
  "nbformat": 4,
  "nbformat_minor": 0,
  "metadata": {
    "colab": {
      "provenance": [],
      "include_colab_link": true
    },
    "kernelspec": {
      "name": "python3",
      "display_name": "Python 3"
    }
  },
  "cells": [
    {
      "cell_type": "markdown",
      "metadata": {
        "id": "view-in-github",
        "colab_type": "text"
      },
      "source": [
        "<a href=\"https://colab.research.google.com/github/madhumithadasarathy/My_Projects/blob/main/Predicting_Sale_Price.ipynb\" target=\"_parent\"><img src=\"https://colab.research.google.com/assets/colab-badge.svg\" alt=\"Open In Colab\"/></a>"
      ]
    },
    {
      "cell_type": "markdown",
      "metadata": {
        "id": "fR_SN7K6475D"
      },
      "source": [
        "### Problem Statement\n",
        "\n",
        "A real estate company wishes to analyse the prices of properties based on various factors such as area, number of rooms, bathrooms, bedrooms, etc. Create a multiple linear regression model which is capable of predicting the sale price of houses based on multiple factors and evaluate the accuracy of this model.\n",
        "\n",
        "\n",
        "\n",
        "\n",
        "\n",
        "\n"
      ]
    },
    {
      "cell_type": "markdown",
      "metadata": {
        "id": "lN1iCMJ4Oy1N"
      },
      "source": [
        "---"
      ]
    },
    {
      "cell_type": "markdown",
      "metadata": {
        "id": "L3zN-iv-wpjm"
      },
      "source": [
        "### List of Activities\n",
        "\n",
        "**Activity 1:** Analysing the Dataset\n",
        "\n",
        "**Activity 2:** Data Preparation\n",
        "  \n",
        "**Activity 3:** Train-Test Split\n",
        "\n",
        "**Activity 4:**  Model Training\n",
        "\n",
        "**Activity 5:** Model Prediction and Evaluation\n",
        "\n",
        "\n",
        "\n",
        "\n",
        "\n"
      ]
    },
    {
      "cell_type": "markdown",
      "metadata": {
        "id": "jLudEnlPO0FF"
      },
      "source": [
        "---"
      ]
    },
    {
      "cell_type": "markdown",
      "metadata": {
        "id": "lZt4yKiJwrUs"
      },
      "source": [
        "\n",
        "#### Activity 1:  Analysing the Dataset\n",
        "\n",
        "- Create a Pandas DataFrame for **Housing** dataset using the below link. This dataset consists of following columns:\n",
        "\n",
        "\n",
        "|Field|Description|\n",
        "|---:|:---|\n",
        "|price|Sale price of a house in INR|\n",
        "|area|Total size of a property in square feet|\n",
        "|bedrooms|Number of bedrooms|\n",
        "|bathrooms|Number of bathrooms|\n",
        "|storeys|Number of storeys excluding basement|\n",
        "|mainroad|yes, if the house faces a main road|\n",
        "|livingroom|yes, if the house has a separate living room or a drawing room for guests|\n",
        "|basement|yes, if the house has a basement|\n",
        "|hotwaterheating|yes, if the house uses gas for hot water heating|\n",
        "|airconditioning|yes, if there is central air conditioning|\n",
        "|parking|number of cars that can be parked|\n",
        "|prefarea|yes, if the house is located in the preferred neighbourhood of the city|\n",
        "\n",
        "\n",
        "  **Dataset Link:** https://student-datasets-bucket.s3.ap-south-1.amazonaws.com/whitehat-ds-datasets/house-prices.csv\n",
        "\n",
        "- Print the first five rows of the dataset. Check for null values and treat them accordingly.\n",
        "\n",
        "\n",
        "\n",
        "\n"
      ]
    },
    {
      "cell_type": "code",
      "metadata": {
        "id": "6U6NaAy4WQgs",
        "colab": {
          "base_uri": "https://localhost:8080/",
          "height": 206
        },
        "outputId": "2d315316-0f84-4e31-f672-5d7170fc36db"
      },
      "source": [
        "# Import modules\n",
        "import pandas as pd\n",
        "# Load the dataset\n",
        "property_df = pd.read_csv(\"https://student-datasets-bucket.s3.ap-south-1.amazonaws.com/whitehat-ds-datasets/house-prices.csv\")\n",
        "# Print first five rows using head() function\n",
        "property_df.head()"
      ],
      "execution_count": null,
      "outputs": [
        {
          "output_type": "execute_result",
          "data": {
            "text/html": [
              "<div>\n",
              "<style scoped>\n",
              "    .dataframe tbody tr th:only-of-type {\n",
              "        vertical-align: middle;\n",
              "    }\n",
              "\n",
              "    .dataframe tbody tr th {\n",
              "        vertical-align: top;\n",
              "    }\n",
              "\n",
              "    .dataframe thead th {\n",
              "        text-align: right;\n",
              "    }\n",
              "</style>\n",
              "<table border=\"1\" class=\"dataframe\">\n",
              "  <thead>\n",
              "    <tr style=\"text-align: right;\">\n",
              "      <th></th>\n",
              "      <th>price</th>\n",
              "      <th>area</th>\n",
              "      <th>bedrooms</th>\n",
              "      <th>bathrooms</th>\n",
              "      <th>stories</th>\n",
              "      <th>mainroad</th>\n",
              "      <th>guestroom</th>\n",
              "      <th>basement</th>\n",
              "      <th>hotwaterheating</th>\n",
              "      <th>airconditioning</th>\n",
              "      <th>parking</th>\n",
              "      <th>prefarea</th>\n",
              "      <th>furnishingstatus</th>\n",
              "    </tr>\n",
              "  </thead>\n",
              "  <tbody>\n",
              "    <tr>\n",
              "      <th>0</th>\n",
              "      <td>13300000</td>\n",
              "      <td>7420</td>\n",
              "      <td>4</td>\n",
              "      <td>2</td>\n",
              "      <td>3</td>\n",
              "      <td>yes</td>\n",
              "      <td>no</td>\n",
              "      <td>no</td>\n",
              "      <td>no</td>\n",
              "      <td>yes</td>\n",
              "      <td>2</td>\n",
              "      <td>yes</td>\n",
              "      <td>furnished</td>\n",
              "    </tr>\n",
              "    <tr>\n",
              "      <th>1</th>\n",
              "      <td>12250000</td>\n",
              "      <td>8960</td>\n",
              "      <td>4</td>\n",
              "      <td>4</td>\n",
              "      <td>4</td>\n",
              "      <td>yes</td>\n",
              "      <td>no</td>\n",
              "      <td>no</td>\n",
              "      <td>no</td>\n",
              "      <td>yes</td>\n",
              "      <td>3</td>\n",
              "      <td>no</td>\n",
              "      <td>furnished</td>\n",
              "    </tr>\n",
              "    <tr>\n",
              "      <th>2</th>\n",
              "      <td>12250000</td>\n",
              "      <td>9960</td>\n",
              "      <td>3</td>\n",
              "      <td>2</td>\n",
              "      <td>2</td>\n",
              "      <td>yes</td>\n",
              "      <td>no</td>\n",
              "      <td>yes</td>\n",
              "      <td>no</td>\n",
              "      <td>no</td>\n",
              "      <td>2</td>\n",
              "      <td>yes</td>\n",
              "      <td>semi-furnished</td>\n",
              "    </tr>\n",
              "    <tr>\n",
              "      <th>3</th>\n",
              "      <td>12215000</td>\n",
              "      <td>7500</td>\n",
              "      <td>4</td>\n",
              "      <td>2</td>\n",
              "      <td>2</td>\n",
              "      <td>yes</td>\n",
              "      <td>no</td>\n",
              "      <td>yes</td>\n",
              "      <td>no</td>\n",
              "      <td>yes</td>\n",
              "      <td>3</td>\n",
              "      <td>yes</td>\n",
              "      <td>furnished</td>\n",
              "    </tr>\n",
              "    <tr>\n",
              "      <th>4</th>\n",
              "      <td>11410000</td>\n",
              "      <td>7420</td>\n",
              "      <td>4</td>\n",
              "      <td>1</td>\n",
              "      <td>2</td>\n",
              "      <td>yes</td>\n",
              "      <td>yes</td>\n",
              "      <td>yes</td>\n",
              "      <td>no</td>\n",
              "      <td>yes</td>\n",
              "      <td>2</td>\n",
              "      <td>no</td>\n",
              "      <td>furnished</td>\n",
              "    </tr>\n",
              "  </tbody>\n",
              "</table>\n",
              "</div>"
            ],
            "text/plain": [
              "      price  area  bedrooms  ...  parking  prefarea furnishingstatus\n",
              "0  13300000  7420         4  ...        2       yes        furnished\n",
              "1  12250000  8960         4  ...        3        no        furnished\n",
              "2  12250000  9960         3  ...        2       yes   semi-furnished\n",
              "3  12215000  7500         4  ...        3       yes        furnished\n",
              "4  11410000  7420         4  ...        2        no        furnished\n",
              "\n",
              "[5 rows x 13 columns]"
            ]
          },
          "metadata": {
            "tags": []
          },
          "execution_count": 1
        }
      ]
    },
    {
      "cell_type": "code",
      "metadata": {
        "id": "jg7hAMJ4jKC5",
        "colab": {
          "base_uri": "https://localhost:8080/"
        },
        "outputId": "05e935de-5ae3-475a-f161-3a6bfb3b2551"
      },
      "source": [
        "# Check if there are any null values. If any column has null values, treat them accordingly\n",
        "property_df.isnull().sum()"
      ],
      "execution_count": null,
      "outputs": [
        {
          "output_type": "execute_result",
          "data": {
            "text/plain": [
              "price               0\n",
              "area                0\n",
              "bedrooms            0\n",
              "bathrooms           0\n",
              "stories             0\n",
              "mainroad            0\n",
              "guestroom           0\n",
              "basement            0\n",
              "hotwaterheating     0\n",
              "airconditioning     0\n",
              "parking             0\n",
              "prefarea            0\n",
              "furnishingstatus    0\n",
              "dtype: int64"
            ]
          },
          "metadata": {
            "tags": []
          },
          "execution_count": 2
        }
      ]
    },
    {
      "cell_type": "markdown",
      "metadata": {
        "id": "T2b18ifmveiZ"
      },
      "source": [
        "---"
      ]
    },
    {
      "cell_type": "markdown",
      "metadata": {
        "id": "UjFIAaX0ocao"
      },
      "source": [
        "#### Activity 2: Data Preparation\n",
        "\n",
        "This dataset contains many columns having categorical data i.e. values 'Yes' or 'No'. However for linear regression, we need numerical data. So you need to convert all 'Yes' and 'No' values to 1s and 0s, where\n",
        "- 1 means 'Yes'\n",
        "- 0 means 'No'\n",
        "\n",
        "Similarly, replace\n",
        "\n",
        "- `unfurnished` with 0\n",
        "- `semi-furnished` with 1\n",
        "- `furnished` with 2\n",
        "\n",
        "**Hint:** To replace all 'Yes' values with 1 and 'No' values with 0, use `replace()` function of the DataFrame object.\n",
        "\n",
        "For ex: `df.replace(to_replace=\"yes\", value=1, inplace=True)` $\\Rightarrow$ replaces the \"yes\" values in all columns with 1. If you need to make changes inplace, use `inplace` boolean argument.\n",
        "\n"
      ]
    },
    {
      "cell_type": "code",
      "metadata": {
        "id": "J7cl2qj-Vv8H"
      },
      "source": [
        "# Replace all the non-numeric values with numeric values.\n",
        "property_df.replace(to_replace=\"yes\",value=1,inplace=True)\n",
        "property_df.replace(to_replace=\"no\",value=0,inplace=True)\n",
        "property_df.replace(to_replace=\"unfurnished\",value=0,inplace=True)\n",
        "property_df.replace(to_replace=\"semi-furnished\",value=1,inplace=True)\n",
        "property_df.replace(to_replace=\"furnished\",value=2,inplace=True)"
      ],
      "execution_count": null,
      "outputs": []
    },
    {
      "cell_type": "markdown",
      "metadata": {
        "id": "uG9YxYbpjgVG"
      },
      "source": [
        "---"
      ]
    },
    {
      "cell_type": "markdown",
      "metadata": {
        "id": "uDTmlU-Mz0fI"
      },
      "source": [
        "#### Activity 3: Train-Test Split\n",
        "\n",
        "You need to predict the house prices based on several factors. Thus, `price` is the target variable and other columns except `price` will be feature variables.\n",
        "\n",
        "Split the dataset into training set and test set such that the training set contains 67% of the instances and the remaining instances will become the test set."
      ]
    },
    {
      "cell_type": "code",
      "metadata": {
        "id": "Ku_loAWZ0LXr"
      },
      "source": [
        "# Split the DataFrame into the training and test sets.\n",
        "from sklearn.model_selection import train_test_split\n",
        "x = property_df.drop(columns=\"price\")\n",
        "y = property_df[\"price\"]\n",
        "x_train, x_test, y_train, y_test = train_test_split(x,y,test_size=0.33,random_state=42)"
      ],
      "execution_count": null,
      "outputs": []
    },
    {
      "cell_type": "markdown",
      "metadata": {
        "id": "hCPg7ClP0Om1"
      },
      "source": [
        "---"
      ]
    },
    {
      "cell_type": "markdown",
      "metadata": {
        "id": "ud8dLfCGjh0E"
      },
      "source": [
        "#### Activity 4: Model Training\n",
        "\n",
        "Implement multiple linear regression using `sklearn` module in the following way:\n",
        "\n",
        "1. Reshape the target variable array into two-dimensional arrays by using `reshape(-1, 1)` function of the numpy module.\n",
        "2. Deploy the model by importing the `LinearRegression` class and create an object of this class.\n",
        "3. Call the `fit()` function on the LinearRegression object."
      ]
    },
    {
      "cell_type": "code",
      "metadata": {
        "id": "Xost35Q1XreI",
        "colab": {
          "base_uri": "https://localhost:8080/"
        },
        "outputId": "1f4244d5-50e6-44fd-938d-36f43042cc05"
      },
      "source": [
        "# Create two-dimensional NumPy arrays for the target variable\n",
        "from sklearn.linear_model import LinearRegression\n",
        "y_train = y_train.values.reshape(-1,1)\n",
        "y_test = y_test.values.reshape(-1,1)\n",
        "\n",
        "\n",
        "# Build linear regression model\n",
        "lin_reg = LinearRegression()\n",
        "lin_reg.fit(x_train,y_train)\n",
        "\n",
        "# Print the value of the intercept\n",
        "print(lin_reg.intercept_)\n",
        "\n",
        "# Print the names of the features along with the values of their corresponding coefficients.\n",
        "for i, j in zip(x, lin_reg.coef_[0]):\n",
        "  print(f\"{i}: {j:.6f}\")"
      ],
      "execution_count": null,
      "outputs": [
        {
          "output_type": "stream",
          "text": [
            "[-276654.39716309]\n",
            "area: 251.340200\n",
            "bedrooms: 92716.605269\n",
            "bathrooms: 1126479.377436\n",
            "stories: 396248.427747\n",
            "mainroad: 410635.155697\n",
            "guestroom: 320496.711210\n",
            "basement: 484622.278853\n",
            "hotwaterheating: 623047.392904\n",
            "airconditioning: 678375.342262\n",
            "parking: 292410.463141\n",
            "prefarea: 524417.242824\n",
            "furnishingstatus: 200615.357036\n"
          ],
          "name": "stdout"
        }
      ]
    },
    {
      "cell_type": "markdown",
      "metadata": {
        "id": "cAPgWR45mrCo"
      },
      "source": [
        "---"
      ]
    },
    {
      "cell_type": "markdown",
      "metadata": {
        "id": "CvcLZdremtHY"
      },
      "source": [
        "#### Activity 5: Model Prediction and Evaluation\n",
        "\n",
        "Predict the values for both training and test sets by calling the `predict()` function on the LinearRegression object. Also, calculate the $R^2$, MSE, RMSE and MAE values to evaluate the accuracy of your model."
      ]
    },
    {
      "cell_type": "code",
      "metadata": {
        "id": "nktWlDysyJyR"
      },
      "source": [
        "# Predict the target variable values for training and test set\n",
        "from sklearn.metrics import r2_score, mean_squared_error, mean_absolute_error\n",
        "y_train_pred = lin_reg.predict(x_train)\n",
        "y_test_pred = lin_reg.predict(x_test)"
      ],
      "execution_count": null,
      "outputs": []
    },
    {
      "cell_type": "code",
      "metadata": {
        "id": "hc3RPNgsX5-0",
        "colab": {
          "base_uri": "https://localhost:8080/"
        },
        "outputId": "47f1d805-a7c7-42c8-b4d7-f330071f9d40"
      },
      "source": [
        "# Evaluate the linear regression model using the 'r2_score', 'mean_squared_error' & 'mean_absolute_error' functions of the 'sklearn' module.\n",
        "print(f\"\\nr2 score for train set {r2_score(y_train,y_train_pred)},\\nMean squared error for train set {mean_squared_error(y_train,y_train_pred)},\\nMean absolute error for train set {mean_absolute_error(y_train,y_train_pred)}\")\n",
        "print(f\"\\nr2 score for test set {r2_score(y_test,y_test_pred)},\\nMean squared error for test set {mean_squared_error(y_test,y_test_pred)},\\nMean absolute error for test set {mean_absolute_error(y_test,y_test_pred)}\")"
      ],
      "execution_count": null,
      "outputs": [
        {
          "output_type": "stream",
          "text": [
            "\n",
            "r2 score for train set 0.68603602364727,\n",
            "Mean squared error for train set 971946527815.6637,\n",
            "Mean absolute error for train set 720751.2129481052\n",
            "\n",
            "r2 score for test set 0.6557070707485257,\n",
            "Mean squared error for test set 1475542475754.5508,\n",
            "Mean absolute error for test set 906953.7908301718\n"
          ],
          "name": "stdout"
        }
      ]
    },
    {
      "cell_type": "markdown",
      "metadata": {
        "id": "Bp0p4IT-Dn_w"
      },
      "source": [
        "---"
      ]
    }
  ]
}