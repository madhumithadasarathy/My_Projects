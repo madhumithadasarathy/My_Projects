{
  "nbformat": 4,
  "nbformat_minor": 0,
  "metadata": {
    "colab": {
      "provenance": [],
      "include_colab_link": true
    },
    "kernelspec": {
      "name": "python3",
      "display_name": "Python 3"
    }
  },
  "cells": [
    {
      "cell_type": "markdown",
      "metadata": {
        "id": "view-in-github",
        "colab_type": "text"
      },
      "source": [
        "<a href=\"https://colab.research.google.com/github/madhumithadasarathy/My_Projects/blob/main/Relationship_of_Atoms_and_Elements.ipynb\" target=\"_parent\"><img src=\"https://colab.research.google.com/assets/colab-badge.svg\" alt=\"Open In Colab\"/></a>"
      ]
    },
    {
      "cell_type": "markdown",
      "metadata": {
        "id": "2i36Yv3-MPY5"
      },
      "source": [
        "### Problem Statement\n",
        "\n",
        "\n",
        "An **Atom** is the smallest unit of matter that retains all of the chemical properties. An **Element** is a substance that is made entirely from one type of atom. For example, the element hydrogen is made from atoms containing a single proton and a single electron.\n",
        "\n",
        "\n",
        "In this project, illustrate this hierarchical relationship of Atoms and  Elements.\n",
        "\n",
        "  "
      ]
    },
    {
      "cell_type": "markdown",
      "metadata": {
        "id": "5JRlGIBRqCGl"
      },
      "source": [
        "---"
      ]
    },
    {
      "cell_type": "markdown",
      "metadata": {
        "id": "UCusTfW0tcxe"
      },
      "source": [
        "#### Activity 1: Create Parent class `Atom`\n",
        "\n",
        "The following are some of the common properties of an atom:\n",
        "\n",
        "|Property|Description|\n",
        "|-|-|\n",
        "|Name|Name of the atom|\n",
        "|Protons|Positively charged particles of an atom in the nucleus|\n",
        "|Electrons|Negatively charged particles of an atom in the outer shells|\n",
        "|Neutrons|Neutral or empty charged particles of an atom in the nucleus|\n",
        "|Electron Configuration|Distribution of electrons in the outer shells called orbits. For example: If there are 13 electrons, then the electron configuration will be [2, 8, 3].|\n",
        "|Atomic Mass| It is approximately equal to the sum of the number of protons and neutrons in an atom|\n",
        "|Net Charge|Difference in the number of protons and electrons.|\n"
      ]
    },
    {
      "cell_type": "markdown",
      "metadata": {
        "id": "j5RcICzZlJeZ"
      },
      "source": [
        "**Follow the steps given below:**\n",
        "\n",
        "1. Create a class `Atom`. The constructor of this class must initialise the following variables:\n",
        "\n",
        "- `name`: Name of the atom.\n",
        "\n",
        "- `electrons`: Number of electrons.\n",
        "\n",
        "- `protons`: Number of protons.\n",
        "\n",
        "- `neutrons`: Number of neutrons.\n",
        "\n",
        "- `electron_config`: A list representing distribution of electrons.\n",
        "\n",
        "   \n",
        "2. Add the following functions:\n",
        "\n",
        "- `calculate_atomic_mass()`: Inside this function, calculate the value of `atomic_mass` variable by adding the number of protons and neutrons.\n",
        "\n",
        "- `calculate_charge()`: Find the value of `net_charge` variable. Also, find out whether the atom is an anion, cation or neutral.\n",
        "\n",
        "**Note:** The net charge of an atom is always **zero** as the number of protons and neutrons is equal in an atom. If the atom gains an extra electron, it becomes negatively charged and is known as an **anion**. If it loses an electron, it becomes positively charged and is known as a **cation**. Thus, `net_charge` is calculated as:\n",
        "\n",
        "  `net_charge` = `protons` - `electrons`\n",
        "\n"
      ]
    },
    {
      "cell_type": "code",
      "metadata": {
        "id": "6RL71w3ntzcH"
      },
      "source": [
        "#  Create class 'Atom'. Add constructor and functions\n",
        "class Atom:\n",
        "  def __init__(self,name,electrons,protons,neutrons,electron_config):\n",
        "    self.name = name\n",
        "    self.electrons = electrons\n",
        "    self.protons = protons\n",
        "    self.neutrons = neutrons\n",
        "    self.electron_config = electron_config\n",
        "  def calculate_atomic_mass(self):\n",
        "    atomic_mass = self.protons + self.neutrons\n",
        "    return atomic_mass\n",
        "  def calculate_charge(self):\n",
        "     net_charge = self.protons - self.electrons\n",
        "     return net_charge\n",
        "\n"
      ],
      "execution_count": 1,
      "outputs": []
    },
    {
      "cell_type": "markdown",
      "metadata": {
        "id": "RETr5Tv1JBls"
      },
      "source": [
        "---"
      ]
    },
    {
      "cell_type": "markdown",
      "metadata": {
        "id": "z1v1uCgTXOj0"
      },
      "source": [
        "#### Activity 2: Create an Object of `Atom` Class\n",
        "\n",
        "Create an object of `Atom` class having following properties:\n",
        "\n",
        "|Property|Value|\n",
        "|-|-|\n",
        "|name|Aluminium|\n",
        "|protons|13|\n",
        "|electrons|13|\n",
        "|neutrons|14|\n",
        "|electron configuration|[2, 8, 3]|\n",
        "\n",
        "Call the functions to calculate the atomic mass and find out whether it is an anion, cation or neutral.\n",
        "\n"
      ]
    },
    {
      "cell_type": "code",
      "metadata": {
        "id": "cHEBBL8JOymV",
        "colab": {
          "base_uri": "https://localhost:8080/"
        },
        "outputId": "85e31994-0bbf-4598-f74c-1142fb246328"
      },
      "source": [
        "# Create an object of 'Atom' class and call the functions\n",
        "aluminium = Atom(\"Aluminium\",13,13,14,[2,8,3])\n",
        "print(aluminium.calculate_atomic_mass(),aluminium.calculate_charge())\n"
      ],
      "execution_count": 2,
      "outputs": [
        {
          "output_type": "stream",
          "name": "stdout",
          "text": [
            "27 0\n"
          ]
        }
      ]
    },
    {
      "cell_type": "markdown",
      "metadata": {
        "id": "TjVfq3s_G8Z8"
      },
      "source": [
        "---"
      ]
    },
    {
      "cell_type": "markdown",
      "metadata": {
        "id": "J2x0URlDJrZH"
      },
      "source": [
        "#### Activity 3: Create a Child Class `Element`\n",
        "\n",
        "\n",
        "1. Create a child class `Element` which inherits from the parent class `Atom`. In addition to the properties of the parent class, the constructor of this class must initialise the following properties:\n",
        "\n",
        "  - `mass`: Mass of the element.\n",
        "\n",
        "  - `volume`: Volume of the element.\n",
        "\n",
        "  - `melting_point`:  Melting point of the element.\n",
        "\n",
        "  - `boiling_point`: Boiling point of the element.\n",
        "\n",
        "2. After creating the child class, create its object and pass the attribute values of your choice. You can also use the following example:\n",
        "\n",
        "\n",
        "|Property|Value|\n",
        "|-|-|\n",
        "|name|Aluminium|\n",
        "|protons|13|\n",
        "|electrons|10|\n",
        "|neutrons|14|\n",
        "|electron configuration|[2, 8]|\n",
        "|mass|10800 kg|\n",
        "|volume|4  $m^{3}$|\n",
        "|boiling_point|2,743 K|\n",
        "|melting_point|933.5K|\n",
        "\n",
        "3. Call the functions to calculate the atomic mass and find out whether it is an anion, cation or neutral.\n",
        "\n",
        "\n",
        "\n",
        "\n",
        "\n",
        "\n",
        "\n",
        "\n",
        "\n"
      ]
    },
    {
      "cell_type": "code",
      "metadata": {
        "id": "IjwoVwylMHpY",
        "colab": {
          "base_uri": "https://localhost:8080/"
        },
        "outputId": "0a595650-2bd3-4273-f06c-a363cc8000cd"
      },
      "source": [
        "# Create child class 'Element' and call the functions using the object of 'Element' class\n",
        "class Element(Atom):\n",
        "  def __init__(self,name,electrons,protons,neutrons,electron_config,mass,volume,boiling_point,melting_point):\n",
        "    super().__init__(name,electrons,protons,neutrons,electron_config)\n",
        "    self.mass = mass\n",
        "    self.volume = volume\n",
        "    self.boiling_point = boiling_point\n",
        "    self.melting_point = melting_point\n",
        "neon = Element(\"Neon\",10,10,10,[2,8],\"20.1797 u\",\"45 L\",\"-246 °C\",\"-248.6 °C\")\n",
        "print(neon.calculate_atomic_mass(),neon.calculate_charge())\n"
      ],
      "execution_count": 3,
      "outputs": [
        {
          "output_type": "stream",
          "name": "stdout",
          "text": [
            "20 0\n"
          ]
        }
      ]
    },
    {
      "cell_type": "markdown",
      "metadata": {
        "id": "lBZS4GAudWGJ"
      },
      "source": [
        "---"
      ]
    }
  ]
}